{
 "cells": [
  {
   "cell_type": "markdown",
   "metadata": {},
   "source": [
    "<h1>\n",
    "    <br style =\"font-family:UCL-SoM-Outline;color:#EA7600\"> Individual Coursework </br> \n",
    "    </p>\n",
    "</h1>\n",
    "\n",
    "<img src=\"figures/som_ft.png\" width=\"70%\"  align=\"right\">\n",
    "<h4>\n",
    "  <p style=\"font-size:18pt\">MSIN0097 Predictive Analytics</p>\n",
    "</h4>\n"
   ]
  },
  {
   "cell_type": "markdown",
   "metadata": {},
   "source": [
    "# COURSEWORK: WARNER MUSIC\n",
    "\n",
    "\n",
    "\n",
    "### PREDICTING THE SUCCESS OF ARTISTS ON SPOTIFY\n",
    "\n",
    "Please complete the sections of this Notebook with supporting code and markup analysis where appropriate. During this coursework you will:\n",
    "\n",
    "- Understand the specific business forecast task \n",
    "- Prepare a dataset, clean and impute where necessary \n",
    "- Train an ensemble classifier \n",
    "- Evaluate the performance and comment of success and failure modes\n",
    "- Complete all necessary stages of the data science process \n",
    "\n",
    "2000 words plus code, markup text within cells of the Notebook. \n",
    "\n",
    "This is approximately 100 words per ACTION cell, but use the wordcount over the duration of the Notebook at your discretion. \n"
   ]
  },
  {
   "cell_type": "markdown",
   "metadata": {},
   "source": [
    "# Assessement \n",
    "\n",
    "** Assessment Deadlines **\n",
    "\n",
    "Please see the Business Analytics tab on the School of Management Student Information Centre for full details of coursework submission deadlines.\n",
    "\n",
    "- 21/02/2019\n",
    "\n",
    "**Assessment Type**: \n",
    "\n",
    "- 60% Individual Coursework of 2000 words plus code, markup text within cells of the Notebook. Approximately 100 words per ACTION cell. \n"
   ]
  },
  {
   "cell_type": "markdown",
   "metadata": {},
   "source": [
    "## 0. Business Case Understanding\n",
    "\n",
    "### INTRODUCTION\n",
    "\n",
    "Over the last few years, the music industry has been dominated by digital streaming services, which produce vast amounts of data on listeners and their preferences. \n",
    "\n",
    "This has required major players in the industry to adopt a data driven approach to content delivery in order to stay competitive. \n",
    "\n",
    "Warner Music Group is looking to leverage its rich database to better understand the factors that have the most significant impact on the success of a new artist. This will allow them to optimize the allocation of resources when signing and promoting new artists.\n",
    "\n",
    "Warner’s (large) database contains several sources of data, including the streaming platforms Spotify, Amazon Live and Apple Music. \n",
    "\n",
    "For this case study, we will be looking using the Spotify dataset to predict the success of artists. In particular, we want to understand the role of Spotify playlists on the performance of artist."
   ]
  },
  {
   "cell_type": "markdown",
   "metadata": {},
   "source": [
    "### Streaming Music\n",
    "\n",
    "When artists release music digitally, details of how their music is streamed can be closely monitored. \n",
    "\n",
    "Some of these details include:\n",
    "\n",
    "- How listeners found their music (a recommendation, a playlist)\n",
    "- Where and when (a routine visit to the gym, a party, while working). \n",
    "- On what device (mobile / PC)\n",
    "- And so on…\n",
    "\n",
    "Spotify alone *process nearly 1 billion streams every day* (Dredge, 2015) and this streaming data is documented in detail every time a user accesses the platform. \n",
    "\n",
    "Analyzing this data potentially enables us to gain a much deeper insight into customers’ listening behavior and individual tastes. \n",
    "\n",
    "Spotify uses it to drive their recommender systems – these tailor and individualize content as well as helping the artists reach wider and more relevant audiences. \n",
    "\n",
    "Warner Music would like to use it to better understand the factors that influence the *future success of its artists*, *identify potentially successful acts* early on in their careers and use this analysis to make resource decisions about how they market and support their artists."
   ]
  },
  {
   "cell_type": "markdown",
   "metadata": {},
   "source": [
    "### What are Spotify Playlists and why are relevant today?\n",
    "\n",
    "A playlist is a group of tracks that you can save under a name, listen to, and update at your leisure. \n"
   ]
  },
  {
   "cell_type": "markdown",
   "metadata": {},
   "source": [
    "<img src = 'figures/spotify_playlist_image.png' width=\"50%\"  align=\"left\">"
   ]
  },
  {
   "cell_type": "markdown",
   "metadata": {},
   "source": [
    "**Figure 1. Screen shot of Spotify product show artists and playlists.**"
   ]
  },
  {
   "cell_type": "markdown",
   "metadata": {},
   "source": [
    "Spotify currently has more than two billion publicly available playlists, many of which are curated by Spotify’s in-house team of editors. \n",
    "\n",
    "The editors scour the web on a daily basis to remain up-to-date with the newest releases, and to create playlists geared towards different desires and needs. \n",
    "\n",
    "Additionally, there are playlists such as [Discover Weekly](https://www.spotify.com/uk/discoverweekly/) and [Release Radar](https://support.spotify.com/uk/using_spotify/playlists/release-radar/) that use self-learning algorithms to study a user’s listening behavior over time and recommend songs tailored to his/her tastes.\n",
    "\t\n",
    "The figure below illustrates the progression of artists on Spotify Playlists:"
   ]
  },
  {
   "cell_type": "markdown",
   "metadata": {},
   "source": [
    "<img src = 'figures/playlist_heirarchy.png' width=\"80%\"  align=\"left\">"
   ]
  },
  {
   "cell_type": "markdown",
   "metadata": {},
   "source": [
    "**Figure 2. Figure to illustarte selecting artists and building audience profiles over progressively larger audiences of different playlists. **"
   ]
  },
  {
   "cell_type": "markdown",
   "metadata": {},
   "source": [
    "The artist pool starts off very dense at the bottom, as new artists are picked up on the smaller playlists, and thins on the way to the top, as only the most promising of them make it through to more selective playlists. The playlists on the very top contain the most successful, chart-topping artists.\n",
    "\n",
    "An important discovery that has been made is that certain playlists have more of an influence on the popularity, stream count and future success of an artist than others. "
   ]
  },
  {
   "cell_type": "markdown",
   "metadata": {},
   "source": [
    "<img src = 'figures/playlist_lift.png' width=\"80%\"  align=\"left\">"
   ]
  },
  {
   "cell_type": "markdown",
   "metadata": {},
   "source": [
    "** Figure 3. Figure to illustrate taking song stream data and using it to predict the trajectory, and likely success, of Warner artists. **"
   ]
  },
  {
   "cell_type": "markdown",
   "metadata": {},
   "source": [
    "Moreover, some playlists have been seen to be pivotal in the careers of successful artists. Artists that do make it onto one of these *key* playlists frequently go on to become highly ranked in the music charts. \n",
    "\n",
    "It is the objective of Warner’s [A&R](https://en.wikipedia.org/wiki/Artists_and_repertoire) team to identify and sign artists before they achieve this level of success i.e. before they get selected for these playlists, in order to increase their ROI. "
   ]
  },
  {
   "cell_type": "markdown",
   "metadata": {},
   "source": [
    "### BUSINESS PROBLEM → DATA PROBLEM\n",
    "\n",
    "Now that we have a better understanding of the business problem, we can begin to think about how we could model this problem using data. \n",
    "\n",
    "The first thing we can do is defining a criterion for measuring artist success. \n",
    "\n",
    "Based on our business problem, one way in which we can do this is to create a binary variable representing the success / failure of an artist and determined by whether a song ends up on a key playlist (1), or not (0). We can then generate features for that artist to determine the impact they have on the success of an artist.\n",
    "\n",
    "Our problem thus becomes a classification task, which can be modeled as follows:\n",
    "\n",
    "### *Artist Feature 1 + Artist Feature 2 …. + Artist Feature N = Probability of Success*\n",
    "\n",
    "where,\n",
    "\n",
    "**Success (1) = Artist Features on Key Playlist**\n",
    "\n",
    "The key playlists we will use for this case study are the 4 listed below, as recommended by Warner Analysts:\n",
    "\n",
    "1.\tHot Hits UK\n",
    "2.\tMassive Dance Hits\n",
    "3.\tThe Indie List\n",
    "4.\tNew Music Friday\n"
   ]
  },
  {
   "cell_type": "markdown",
   "metadata": {},
   "source": [
    "The coursework task is to take a look at the Spotify dataset to see how we might be able to set up this classification model.\n",
    "\n",
    "Complete the code sections below to work through the project from start to finish. \n",
    "<br>"
   ]
  },
  {
   "cell_type": "code",
   "execution_count": null,
   "metadata": {
    "collapsed": true
   },
   "outputs": [],
   "source": [
    "# Python Project Template\n",
    "\n",
    "# 1. Prepare Problem\n",
    "# a) Load libraries\n",
    "# b) Load dataset\n",
    "\n",
    "# 2. Summarize Data\n",
    "# a) Descriptive statistics\n",
    "# b) Data visualizations\n",
    "\n",
    "# 3. Prepare Data\n",
    "# a) Data Cleaning\n",
    "# b) Feature Selection\n",
    "# c) Data Transforms\n",
    "\n",
    "# 4. Evaluate Algorithms\n",
    "# a) Split-out validation dataset\n",
    "# b) Test options and evaluation metric\n",
    "# c) Spot Check Algorithms\n",
    "# d) Compare Algorithms\n",
    "\n",
    "# 5. Improve Accuracy\n",
    "# a) Algorithm Tuning\n",
    "# b) Ensembles\n",
    "\n",
    "# 6. Finalize Model\n",
    "# a) Predictions on validation dataset\n",
    "# b) Create standalone model on entire training dataset\n",
    "# c) Save model for later use"
   ]
  },
  {
   "cell_type": "markdown",
   "metadata": {},
   "source": [
    "Review \"R6 - Predictive Modeling template\" Notebook from week 6 on Moodle for further details of what each stage of the project should look like. \n",
    "\n",
    "<div class=\"alert alert-warning\">\n",
    "<b>ACTION: Guidance </b> \n",
    "\n",
    "<p>If you need to do something, instructions will appear in a box like this</p> \n",
    "\n",
    "</div>"
   ]
  },
  {
   "cell_type": "markdown",
   "metadata": {},
   "source": [
    "## 1. Prepare the problem \n",
    "\n",
    "Run your code on Sherlock. We have prepared some of the data for you already. \n",
    "\n",
    "In addition, we have imported a custom module (spotfunc.py) containing useful functions written for this dataset."
   ]
  },
  {
   "cell_type": "code",
   "execution_count": 2,
   "metadata": {},
   "outputs": [
    {
     "name": "stderr",
     "output_type": "stream",
     "text": [
      "/opt/anaconda/envs/Python3/lib/python3.6/site-packages/sherlockml/filesystem.py:21: UserWarning: sherlockml.filesystem has been renamed sherlockml.datasets - please update your code to use the new import location\n",
      "  warnings.warn(_WARNING_MESSAGE)\n"
     ]
    }
   ],
   "source": [
    "# Preamble \n",
    "\n",
    "import sherlockml.filesystem as sfs\n",
    "import pandas as pd\n",
    "import random\n",
    "\n",
    "sfs.get('/input/spotfunc.py', 'spotfunc.py')\n",
    "sfs.get('/input/playlists_ids_and_titles.csv', 'playlists_ids_and_titles.csv')\n",
    "sfs.get('/input/newartists2015onwards.csv', 'newartists2015onwards.csv')\n",
    "\n",
    "# Add more stuff here as necessary \n",
    "\n",
    "# Import all required libraries\n",
    "import pandas as pd\n",
    "import numpy as np\n",
    "import matplotlib.pyplot as plt\n",
    "import warnings \n",
    "warnings.simplefilter('ignore')\n",
    "from functools import reduce\n",
    "\n",
    "import seaborn as sns\n",
    "\n",
    "from patsy import dmatrices\n",
    "import statsmodels.api as sm\n",
    "from statsmodels.stats.outliers_influence import variance_inflation_factor\n",
    "\n",
    "# Import custom functions from library, named 'spotfunc'\n",
    "#import spotfunc as spotfunc_v2\n"
   ]
  },
  {
   "cell_type": "markdown",
   "metadata": {},
   "source": [
    "\n",
    "\n",
    "# 2. Data Understanding\n",
    "\n",
    "<br>\n",
    "A year’s worth of Spotify streaming data in the WMG database amounts to approximately 50 billion rows of data i.e. 50 billion streams (1.5 to 2 terabytes worth), with a total of seven years of data stored altogether (2010 till today).\n",
    "\n",
    "For the purposes of this case study, we will be using a sample of this data. The dataset uploaded on the Sherlock server is about 16GB, containing data from 2015 - 2017. Given the limits on RAM and cores, we will be taking a further sample of this data for purposes of this case study: a 10% random sample of the total dataset, saved as 'cleaned_data.csv'. \n",
    "\n",
    "*Note: The code for this sampling in included below, but commented out.*\n",
    "\n",
    "We can begin with reading in the datasets we will need. We will be using 2 files: \n",
    "1. Primary Spotify dataset\n",
    "2. Playlist Name Mapper (only playlist IDs provided in primary dataset)\n",
    "\n"
   ]
  },
  {
   "cell_type": "code",
   "execution_count": 129,
   "metadata": {
    "collapsed": true
   },
   "outputs": [],
   "source": [
    "# %%time\n",
    "# Sampling data to read in 10% \n",
    "# sfs.get('/input/all_artists_with_date_time_detail.csv', 'client-data.csv')\n",
    "# # Read in data\n",
    "# # The data to load\n",
    "# f = 'client-data.csv'\n",
    "# # Count the lines\n",
    "# num_lines = sum(1 for l in open(f))\n",
    "# n = 10\n",
    "# # Count the lines or use an upper bound\n",
    "# num_lines = sum(1 for l in open(f))\n",
    "# # The row indices to skip - make sure 0 is not included to keep the header!\n",
    "# skip_idx = [x for x in range(1, num_lines) if x % n != 0]\n",
    "# # Read the data\n",
    "# data = pd.read_csv(f, skiprows=skip_idx )\n"
   ]
  },
  {
   "cell_type": "markdown",
   "metadata": {},
   "source": [
    "Read in the data"
   ]
  },
  {
   "cell_type": "code",
   "execution_count": 1,
   "metadata": {},
   "outputs": [
    {
     "ename": "NameError",
     "evalue": "name 'pd' is not defined",
     "output_type": "error",
     "traceback": [
      "\u001b[0;31m---------------------------------------------------------------------------\u001b[0m",
      "\u001b[0;31mNameError\u001b[0m                                 Traceback (most recent call last)",
      "\u001b[0;32m<timed exec>\u001b[0m in \u001b[0;36m<module>\u001b[0;34m\u001b[0m\n",
      "\u001b[0;31mNameError\u001b[0m: name 'pd' is not defined"
     ]
    }
   ],
   "source": [
    "%%time\n",
    "# Read in sampled data\n",
    "data = pd.read_csv('cleaned_data.csv')\n",
    "print('rows:',len(data))\n",
    "\n",
    "# Keep a copy of original data in case of changes made to dataframe\n",
    "all_artists = data.copy()\n",
    "\n",
    "# Load playlist data\n",
    "playlist_ids_and_titles = pd.read_csv('playlists_ids_and_titles.csv',encoding = 'latin-1',error_bad_lines=False,warn_bad_lines=False)\n",
    "\n",
    "# Keep only those with 22 characters (data cleaning)\n",
    "playlist_mapper = playlist_ids_and_titles[playlist_ids_and_titles.id.str.len()==22].drop_duplicates(['id'])\n"
   ]
  },
  {
   "cell_type": "markdown",
   "metadata": {},
   "source": [
    "## 2.1 Data Inspection"
   ]
  },
  {
   "cell_type": "markdown",
   "metadata": {},
   "source": [
    "<div class=\"alert alert-warning\">\n",
    "<b>ACTION: Inspect the data </b> \n",
    "\n",
    "<p>Make sure you understand the data. Use methods like **`data.head()`** and **`data.info()`**</p> \n",
    "\n",
    "</div>"
   ]
  },
  {
   "cell_type": "markdown",
   "metadata": {},
   "source": [
    "There are two main dataframes used in this project. One is the main dataframe where each row represents a stream and the relevant information about the artist, timestamp, playlist and etc. This dataframe contains more than three million rows. Whereas the other one is playlist id and playlist name mapper."
   ]
  },
  {
   "cell_type": "code",
   "execution_count": 4,
   "metadata": {},
   "outputs": [
    {
     "data": {
      "text/html": [
       "<div>\n",
       "<style scoped>\n",
       "    .dataframe tbody tr th:only-of-type {\n",
       "        vertical-align: middle;\n",
       "    }\n",
       "\n",
       "    .dataframe tbody tr th {\n",
       "        vertical-align: top;\n",
       "    }\n",
       "\n",
       "    .dataframe thead th {\n",
       "        text-align: right;\n",
       "    }\n",
       "</style>\n",
       "<table border=\"1\" class=\"dataframe\">\n",
       "  <thead>\n",
       "    <tr style=\"text-align: right;\">\n",
       "      <th></th>\n",
       "      <th>Unnamed: 0</th>\n",
       "      <th>Unnamed: 0.1</th>\n",
       "      <th>Unnamed: 0.1.1</th>\n",
       "      <th>day</th>\n",
       "      <th>log_time</th>\n",
       "      <th>mobile</th>\n",
       "      <th>track_id</th>\n",
       "      <th>isrc</th>\n",
       "      <th>upc</th>\n",
       "      <th>artist_name</th>\n",
       "      <th>...</th>\n",
       "      <th>hour</th>\n",
       "      <th>minute</th>\n",
       "      <th>week</th>\n",
       "      <th>month</th>\n",
       "      <th>year</th>\n",
       "      <th>date</th>\n",
       "      <th>weekday</th>\n",
       "      <th>weekday_name</th>\n",
       "      <th>playlist_id</th>\n",
       "      <th>playlist_name</th>\n",
       "    </tr>\n",
       "  </thead>\n",
       "  <tbody>\n",
       "    <tr>\n",
       "      <th>0</th>\n",
       "      <td>0</td>\n",
       "      <td>9</td>\n",
       "      <td>('small_artists_2016.csv', 9)</td>\n",
       "      <td>10</td>\n",
       "      <td>20160510T12:15:00</td>\n",
       "      <td>True</td>\n",
       "      <td>8f1924eab3804f308427c31d925c1b3f</td>\n",
       "      <td>USAT21600547</td>\n",
       "      <td>7.567991e+10</td>\n",
       "      <td>Sturgill Simpson</td>\n",
       "      <td>...</td>\n",
       "      <td>12</td>\n",
       "      <td>15</td>\n",
       "      <td>19</td>\n",
       "      <td>5</td>\n",
       "      <td>2016</td>\n",
       "      <td>2016-05-10</td>\n",
       "      <td>1</td>\n",
       "      <td>Tuesday</td>\n",
       "      <td>NaN</td>\n",
       "      <td>NaN</td>\n",
       "    </tr>\n",
       "    <tr>\n",
       "      <th>1</th>\n",
       "      <td>1</td>\n",
       "      <td>19</td>\n",
       "      <td>('small_artists_2016.csv', 19)</td>\n",
       "      <td>10</td>\n",
       "      <td>20160510T12:15:00</td>\n",
       "      <td>True</td>\n",
       "      <td>8f1924eab3804f308427c31d925c1b3f</td>\n",
       "      <td>USAT21600547</td>\n",
       "      <td>7.567991e+10</td>\n",
       "      <td>Sturgill Simpson</td>\n",
       "      <td>...</td>\n",
       "      <td>12</td>\n",
       "      <td>15</td>\n",
       "      <td>19</td>\n",
       "      <td>5</td>\n",
       "      <td>2016</td>\n",
       "      <td>2016-05-10</td>\n",
       "      <td>1</td>\n",
       "      <td>Tuesday</td>\n",
       "      <td>NaN</td>\n",
       "      <td>NaN</td>\n",
       "    </tr>\n",
       "    <tr>\n",
       "      <th>2</th>\n",
       "      <td>2</td>\n",
       "      <td>29</td>\n",
       "      <td>('small_artists_2016.csv', 29)</td>\n",
       "      <td>10</td>\n",
       "      <td>20160510T14:00:00</td>\n",
       "      <td>True</td>\n",
       "      <td>8f1924eab3804f308427c31d925c1b3f</td>\n",
       "      <td>USAT21600547</td>\n",
       "      <td>7.567991e+10</td>\n",
       "      <td>Sturgill Simpson</td>\n",
       "      <td>...</td>\n",
       "      <td>14</td>\n",
       "      <td>0</td>\n",
       "      <td>19</td>\n",
       "      <td>5</td>\n",
       "      <td>2016</td>\n",
       "      <td>2016-05-10</td>\n",
       "      <td>1</td>\n",
       "      <td>Tuesday</td>\n",
       "      <td>NaN</td>\n",
       "      <td>NaN</td>\n",
       "    </tr>\n",
       "    <tr>\n",
       "      <th>3</th>\n",
       "      <td>3</td>\n",
       "      <td>39</td>\n",
       "      <td>('small_artists_2016.csv', 39)</td>\n",
       "      <td>10</td>\n",
       "      <td>20160510T10:45:00</td>\n",
       "      <td>True</td>\n",
       "      <td>8f1924eab3804f308427c31d925c1b3f</td>\n",
       "      <td>USAT21600547</td>\n",
       "      <td>7.567991e+10</td>\n",
       "      <td>Sturgill Simpson</td>\n",
       "      <td>...</td>\n",
       "      <td>10</td>\n",
       "      <td>45</td>\n",
       "      <td>19</td>\n",
       "      <td>5</td>\n",
       "      <td>2016</td>\n",
       "      <td>2016-05-10</td>\n",
       "      <td>1</td>\n",
       "      <td>Tuesday</td>\n",
       "      <td>NaN</td>\n",
       "      <td>NaN</td>\n",
       "    </tr>\n",
       "    <tr>\n",
       "      <th>4</th>\n",
       "      <td>4</td>\n",
       "      <td>49</td>\n",
       "      <td>('small_artists_2016.csv', 49)</td>\n",
       "      <td>10</td>\n",
       "      <td>20160510T10:15:00</td>\n",
       "      <td>True</td>\n",
       "      <td>8f1924eab3804f308427c31d925c1b3f</td>\n",
       "      <td>USAT21600547</td>\n",
       "      <td>7.567991e+10</td>\n",
       "      <td>Sturgill Simpson</td>\n",
       "      <td>...</td>\n",
       "      <td>10</td>\n",
       "      <td>15</td>\n",
       "      <td>19</td>\n",
       "      <td>5</td>\n",
       "      <td>2016</td>\n",
       "      <td>2016-05-10</td>\n",
       "      <td>1</td>\n",
       "      <td>Tuesday</td>\n",
       "      <td>NaN</td>\n",
       "      <td>NaN</td>\n",
       "    </tr>\n",
       "  </tbody>\n",
       "</table>\n",
       "<p>5 rows × 45 columns</p>\n",
       "</div>"
      ],
      "text/plain": [
       "   Unnamed: 0  Unnamed: 0.1                  Unnamed: 0.1.1  day  \\\n",
       "0           0             9   ('small_artists_2016.csv', 9)   10   \n",
       "1           1            19  ('small_artists_2016.csv', 19)   10   \n",
       "2           2            29  ('small_artists_2016.csv', 29)   10   \n",
       "3           3            39  ('small_artists_2016.csv', 39)   10   \n",
       "4           4            49  ('small_artists_2016.csv', 49)   10   \n",
       "\n",
       "            log_time  mobile                          track_id          isrc  \\\n",
       "0  20160510T12:15:00    True  8f1924eab3804f308427c31d925c1b3f  USAT21600547   \n",
       "1  20160510T12:15:00    True  8f1924eab3804f308427c31d925c1b3f  USAT21600547   \n",
       "2  20160510T14:00:00    True  8f1924eab3804f308427c31d925c1b3f  USAT21600547   \n",
       "3  20160510T10:45:00    True  8f1924eab3804f308427c31d925c1b3f  USAT21600547   \n",
       "4  20160510T10:15:00    True  8f1924eab3804f308427c31d925c1b3f  USAT21600547   \n",
       "\n",
       "            upc       artist_name      ...      hour minute week month  year  \\\n",
       "0  7.567991e+10  Sturgill Simpson      ...        12     15   19     5  2016   \n",
       "1  7.567991e+10  Sturgill Simpson      ...        12     15   19     5  2016   \n",
       "2  7.567991e+10  Sturgill Simpson      ...        14      0   19     5  2016   \n",
       "3  7.567991e+10  Sturgill Simpson      ...        10     45   19     5  2016   \n",
       "4  7.567991e+10  Sturgill Simpson      ...        10     15   19     5  2016   \n",
       "\n",
       "         date weekday  weekday_name playlist_id playlist_name  \n",
       "0  2016-05-10       1       Tuesday         NaN           NaN  \n",
       "1  2016-05-10       1       Tuesday         NaN           NaN  \n",
       "2  2016-05-10       1       Tuesday         NaN           NaN  \n",
       "3  2016-05-10       1       Tuesday         NaN           NaN  \n",
       "4  2016-05-10       1       Tuesday         NaN           NaN  \n",
       "\n",
       "[5 rows x 45 columns]"
      ]
     },
     "execution_count": 4,
     "metadata": {},
     "output_type": "execute_result"
    }
   ],
   "source": [
    "data.head()"
   ]
  },
  {
   "cell_type": "code",
   "execution_count": 5,
   "metadata": {},
   "outputs": [
    {
     "name": "stdout",
     "output_type": "stream",
     "text": [
      "<class 'pandas.core.frame.DataFrame'>\n",
      "RangeIndex: 3805499 entries, 0 to 3805498\n",
      "Data columns (total 45 columns):\n",
      "Unnamed: 0           int64\n",
      "Unnamed: 0.1         int64\n",
      "Unnamed: 0.1.1       object\n",
      "day                  int64\n",
      "log_time             object\n",
      "mobile               bool\n",
      "track_id             object\n",
      "isrc                 object\n",
      "upc                  float64\n",
      "artist_name          object\n",
      "track_name           object\n",
      "album_name           object\n",
      "customer_id          object\n",
      "postal_code          object\n",
      "access               object\n",
      "country_code         object\n",
      "gender               object\n",
      "birth_year           float64\n",
      "filename             object\n",
      "region_code          object\n",
      "referral_code        float64\n",
      "partner_name         object\n",
      "financial_product    object\n",
      "user_product_type    object\n",
      "offline_timestamp    float64\n",
      "stream_length        float64\n",
      "stream_cached        float64\n",
      "stream_source        object\n",
      "stream_source_uri    object\n",
      "stream_device        object\n",
      "stream_os            object\n",
      "track_uri            object\n",
      "track_artists        object\n",
      "source               float64\n",
      "DateTime             object\n",
      "hour                 int64\n",
      "minute               int64\n",
      "week                 int64\n",
      "month                int64\n",
      "year                 int64\n",
      "date                 object\n",
      "weekday              int64\n",
      "weekday_name         object\n",
      "playlist_id          object\n",
      "playlist_name        object\n",
      "dtypes: bool(1), float64(7), int64(9), object(28)\n",
      "memory usage: 1.3+ GB\n"
     ]
    }
   ],
   "source": [
    "data.info()"
   ]
  },
  {
   "cell_type": "code",
   "execution_count": 6,
   "metadata": {},
   "outputs": [
    {
     "data": {
      "text/html": [
       "<div>\n",
       "<style scoped>\n",
       "    .dataframe tbody tr th:only-of-type {\n",
       "        vertical-align: middle;\n",
       "    }\n",
       "\n",
       "    .dataframe tbody tr th {\n",
       "        vertical-align: top;\n",
       "    }\n",
       "\n",
       "    .dataframe thead th {\n",
       "        text-align: right;\n",
       "    }\n",
       "</style>\n",
       "<table border=\"1\" class=\"dataframe\">\n",
       "  <thead>\n",
       "    <tr style=\"text-align: right;\">\n",
       "      <th></th>\n",
       "      <th>id</th>\n",
       "      <th>name</th>\n",
       "    </tr>\n",
       "  </thead>\n",
       "  <tbody>\n",
       "    <tr>\n",
       "      <th>0</th>\n",
       "      <td>607qZnoGjqhpWjOaJWakmx</td>\n",
       "      <td>80er jaren</td>\n",
       "    </tr>\n",
       "    <tr>\n",
       "      <th>1</th>\n",
       "      <td>4xP3wJiHkHfyPcGBjsZcpf</td>\n",
       "      <td>Glee</td>\n",
       "    </tr>\n",
       "    <tr>\n",
       "      <th>2</th>\n",
       "      <td>1iHOfbhKGHImcrEJXhrUdg</td>\n",
       "      <td>Best of 1980s</td>\n",
       "    </tr>\n",
       "    <tr>\n",
       "      <th>3</th>\n",
       "      <td>08AR0IWSEfi0GCnB7b6AAW</td>\n",
       "      <td>Kesähitit/yhden hitin ihmeet/sekalaista</td>\n",
       "    </tr>\n",
       "    <tr>\n",
       "      <th>4</th>\n",
       "      <td>3DeVsW7nzA3qezOMowGkeu</td>\n",
       "      <td>Músicas para Transar</td>\n",
       "    </tr>\n",
       "  </tbody>\n",
       "</table>\n",
       "</div>"
      ],
      "text/plain": [
       "                       id                                     name\n",
       "0  607qZnoGjqhpWjOaJWakmx                               80er jaren\n",
       "1  4xP3wJiHkHfyPcGBjsZcpf                                     Glee\n",
       "2  1iHOfbhKGHImcrEJXhrUdg                            Best of 1980s\n",
       "3  08AR0IWSEfi0GCnB7b6AAW  Kesähitit/yhden hitin ihmeet/sekalaista\n",
       "4  3DeVsW7nzA3qezOMowGkeu                     Músicas para Transar"
      ]
     },
     "execution_count": 6,
     "metadata": {},
     "output_type": "execute_result"
    }
   ],
   "source": [
    "playlist_mapper.head()"
   ]
  },
  {
   "cell_type": "markdown",
   "metadata": {},
   "source": [
    "The columns you should *focus* on for this case study are:\n",
    "\n",
    "* Log Time – timestamp of each stream\n",
    "* Artist Name(s) – some songs feature more than one artist\n",
    "* Track Name\n",
    "* ISRC - (Unique code identifier for that version of the song, i.e. radio edit, album version, remix etc.)\n",
    "* Customer ID\n",
    "* Birth Year\n",
    "* Location of Customer\n",
    "* Gender of Customer\n",
    "* Stream Source URI – where on Spotify was the song played – unique playlist ID, an artist’s page, an album etc.\n"
   ]
  },
  {
   "cell_type": "markdown",
   "metadata": {},
   "source": [
    "## 2.2 Select the relevant columns"
   ]
  },
  {
   "cell_type": "markdown",
   "metadata": {},
   "source": [
    "The type of the log time is actually a string and it is noticed that the date and the time in the log_time column is separated by a character 'T'. In fact, in the orginal dataset, the date, month, year, hour, minute etc. have been extracted for us, so we can simply extract those columns rather than the log_time column. "
   ]
  },
  {
   "cell_type": "code",
   "execution_count": 7,
   "metadata": {},
   "outputs": [
    {
     "data": {
      "text/plain": [
       "str"
      ]
     },
     "execution_count": 7,
     "metadata": {},
     "output_type": "execute_result"
    }
   ],
   "source": [
    "type(data['log_time'][0])"
   ]
  },
  {
   "cell_type": "code",
   "execution_count": 8,
   "metadata": {},
   "outputs": [],
   "source": [
    "# relevant columns are selected from the original dataframe\n",
    "data_cleaned = data[['year','month','week','weekday','weekday_name','date','hour','minute',\n",
    "                     'artist_name','track_name','isrc','customer_id',\n",
    "                     'birth_year','region_code','postal_code','gender','stream_source_uri']]"
   ]
  },
  {
   "cell_type": "code",
   "execution_count": 9,
   "metadata": {},
   "outputs": [
    {
     "data": {
      "text/html": [
       "<div>\n",
       "<style scoped>\n",
       "    .dataframe tbody tr th:only-of-type {\n",
       "        vertical-align: middle;\n",
       "    }\n",
       "\n",
       "    .dataframe tbody tr th {\n",
       "        vertical-align: top;\n",
       "    }\n",
       "\n",
       "    .dataframe thead th {\n",
       "        text-align: right;\n",
       "    }\n",
       "</style>\n",
       "<table border=\"1\" class=\"dataframe\">\n",
       "  <thead>\n",
       "    <tr style=\"text-align: right;\">\n",
       "      <th></th>\n",
       "      <th>year</th>\n",
       "      <th>month</th>\n",
       "      <th>week</th>\n",
       "      <th>weekday</th>\n",
       "      <th>weekday_name</th>\n",
       "      <th>date</th>\n",
       "      <th>hour</th>\n",
       "      <th>minute</th>\n",
       "      <th>artist_name</th>\n",
       "      <th>track_name</th>\n",
       "      <th>isrc</th>\n",
       "      <th>customer_id</th>\n",
       "      <th>birth_year</th>\n",
       "      <th>region_code</th>\n",
       "      <th>postal_code</th>\n",
       "      <th>gender</th>\n",
       "      <th>stream_source_uri</th>\n",
       "    </tr>\n",
       "  </thead>\n",
       "  <tbody>\n",
       "    <tr>\n",
       "      <th>0</th>\n",
       "      <td>2016</td>\n",
       "      <td>5</td>\n",
       "      <td>19</td>\n",
       "      <td>1</td>\n",
       "      <td>Tuesday</td>\n",
       "      <td>2016-05-10</td>\n",
       "      <td>12</td>\n",
       "      <td>15</td>\n",
       "      <td>Sturgill Simpson</td>\n",
       "      <td>Call To Arms</td>\n",
       "      <td>USAT21600547</td>\n",
       "      <td>6c022a8376c10aae37abb839eb7625fe</td>\n",
       "      <td>1968.0</td>\n",
       "      <td>GB-DUR</td>\n",
       "      <td>NE</td>\n",
       "      <td>male</td>\n",
       "      <td>NaN</td>\n",
       "    </tr>\n",
       "    <tr>\n",
       "      <th>1</th>\n",
       "      <td>2016</td>\n",
       "      <td>5</td>\n",
       "      <td>19</td>\n",
       "      <td>1</td>\n",
       "      <td>Tuesday</td>\n",
       "      <td>2016-05-10</td>\n",
       "      <td>12</td>\n",
       "      <td>15</td>\n",
       "      <td>Sturgill Simpson</td>\n",
       "      <td>Call To Arms</td>\n",
       "      <td>USAT21600547</td>\n",
       "      <td>6c022a8376c10aae37abb839eb7625fe</td>\n",
       "      <td>1968.0</td>\n",
       "      <td>GB-DUR</td>\n",
       "      <td>NE</td>\n",
       "      <td>male</td>\n",
       "      <td>NaN</td>\n",
       "    </tr>\n",
       "    <tr>\n",
       "      <th>2</th>\n",
       "      <td>2016</td>\n",
       "      <td>5</td>\n",
       "      <td>19</td>\n",
       "      <td>1</td>\n",
       "      <td>Tuesday</td>\n",
       "      <td>2016-05-10</td>\n",
       "      <td>14</td>\n",
       "      <td>0</td>\n",
       "      <td>Sturgill Simpson</td>\n",
       "      <td>Call To Arms</td>\n",
       "      <td>USAT21600547</td>\n",
       "      <td>352292382ff3ee0cfd3b73b94ea0ff8f</td>\n",
       "      <td>1995.0</td>\n",
       "      <td>GB-ESS</td>\n",
       "      <td>1</td>\n",
       "      <td>male</td>\n",
       "      <td>NaN</td>\n",
       "    </tr>\n",
       "    <tr>\n",
       "      <th>3</th>\n",
       "      <td>2016</td>\n",
       "      <td>5</td>\n",
       "      <td>19</td>\n",
       "      <td>1</td>\n",
       "      <td>Tuesday</td>\n",
       "      <td>2016-05-10</td>\n",
       "      <td>10</td>\n",
       "      <td>45</td>\n",
       "      <td>Sturgill Simpson</td>\n",
       "      <td>Call To Arms</td>\n",
       "      <td>USAT21600547</td>\n",
       "      <td>c3f2b54e76696ed491d9d8f964c97774</td>\n",
       "      <td>1992.0</td>\n",
       "      <td>GB-HRT</td>\n",
       "      <td>MK</td>\n",
       "      <td>male</td>\n",
       "      <td>NaN</td>\n",
       "    </tr>\n",
       "    <tr>\n",
       "      <th>4</th>\n",
       "      <td>2016</td>\n",
       "      <td>5</td>\n",
       "      <td>19</td>\n",
       "      <td>1</td>\n",
       "      <td>Tuesday</td>\n",
       "      <td>2016-05-10</td>\n",
       "      <td>10</td>\n",
       "      <td>15</td>\n",
       "      <td>Sturgill Simpson</td>\n",
       "      <td>Call To Arms</td>\n",
       "      <td>USAT21600547</td>\n",
       "      <td>6a06a9bbe042c73e8f1a3596ec321636</td>\n",
       "      <td>1979.0</td>\n",
       "      <td>GB-LND</td>\n",
       "      <td>KT</td>\n",
       "      <td>male</td>\n",
       "      <td>NaN</td>\n",
       "    </tr>\n",
       "  </tbody>\n",
       "</table>\n",
       "</div>"
      ],
      "text/plain": [
       "   year  month  week  weekday weekday_name        date  hour  minute  \\\n",
       "0  2016      5    19        1      Tuesday  2016-05-10    12      15   \n",
       "1  2016      5    19        1      Tuesday  2016-05-10    12      15   \n",
       "2  2016      5    19        1      Tuesday  2016-05-10    14       0   \n",
       "3  2016      5    19        1      Tuesday  2016-05-10    10      45   \n",
       "4  2016      5    19        1      Tuesday  2016-05-10    10      15   \n",
       "\n",
       "        artist_name    track_name          isrc  \\\n",
       "0  Sturgill Simpson  Call To Arms  USAT21600547   \n",
       "1  Sturgill Simpson  Call To Arms  USAT21600547   \n",
       "2  Sturgill Simpson  Call To Arms  USAT21600547   \n",
       "3  Sturgill Simpson  Call To Arms  USAT21600547   \n",
       "4  Sturgill Simpson  Call To Arms  USAT21600547   \n",
       "\n",
       "                        customer_id  birth_year region_code postal_code  \\\n",
       "0  6c022a8376c10aae37abb839eb7625fe      1968.0      GB-DUR          NE   \n",
       "1  6c022a8376c10aae37abb839eb7625fe      1968.0      GB-DUR          NE   \n",
       "2  352292382ff3ee0cfd3b73b94ea0ff8f      1995.0      GB-ESS           1   \n",
       "3  c3f2b54e76696ed491d9d8f964c97774      1992.0      GB-HRT          MK   \n",
       "4  6a06a9bbe042c73e8f1a3596ec321636      1979.0      GB-LND          KT   \n",
       "\n",
       "  gender stream_source_uri  \n",
       "0   male               NaN  \n",
       "1   male               NaN  \n",
       "2   male               NaN  \n",
       "3   male               NaN  \n",
       "4   male               NaN  "
      ]
     },
     "execution_count": 9,
     "metadata": {},
     "output_type": "execute_result"
    }
   ],
   "source": [
    "data_cleaned.head()"
   ]
  },
  {
   "cell_type": "markdown",
   "metadata": {},
   "source": [
    "It is found out that weekday is represented by a number, the below table shows the match between the weekday number and the weekday name. "
   ]
  },
  {
   "cell_type": "code",
   "execution_count": 10,
   "metadata": {},
   "outputs": [
    {
     "data": {
      "text/html": [
       "<div>\n",
       "<style scoped>\n",
       "    .dataframe tbody tr th:only-of-type {\n",
       "        vertical-align: middle;\n",
       "    }\n",
       "\n",
       "    .dataframe tbody tr th {\n",
       "        vertical-align: top;\n",
       "    }\n",
       "\n",
       "    .dataframe thead th {\n",
       "        text-align: right;\n",
       "    }\n",
       "</style>\n",
       "<table border=\"1\" class=\"dataframe\">\n",
       "  <thead>\n",
       "    <tr style=\"text-align: right;\">\n",
       "      <th></th>\n",
       "      <th>weekday</th>\n",
       "      <th>weekday_name</th>\n",
       "    </tr>\n",
       "  </thead>\n",
       "  <tbody>\n",
       "    <tr>\n",
       "      <th>150</th>\n",
       "      <td>0</td>\n",
       "      <td>Monday</td>\n",
       "    </tr>\n",
       "    <tr>\n",
       "      <th>0</th>\n",
       "      <td>1</td>\n",
       "      <td>Tuesday</td>\n",
       "    </tr>\n",
       "    <tr>\n",
       "      <th>38</th>\n",
       "      <td>2</td>\n",
       "      <td>Wednesday</td>\n",
       "    </tr>\n",
       "    <tr>\n",
       "      <th>39</th>\n",
       "      <td>3</td>\n",
       "      <td>Thursday</td>\n",
       "    </tr>\n",
       "    <tr>\n",
       "      <th>22</th>\n",
       "      <td>4</td>\n",
       "      <td>Friday</td>\n",
       "    </tr>\n",
       "    <tr>\n",
       "      <th>104</th>\n",
       "      <td>5</td>\n",
       "      <td>Saturday</td>\n",
       "    </tr>\n",
       "    <tr>\n",
       "      <th>37</th>\n",
       "      <td>6</td>\n",
       "      <td>Sunday</td>\n",
       "    </tr>\n",
       "  </tbody>\n",
       "</table>\n",
       "</div>"
      ],
      "text/plain": [
       "     weekday weekday_name\n",
       "150        0       Monday\n",
       "0          1      Tuesday\n",
       "38         2    Wednesday\n",
       "39         3     Thursday\n",
       "22         4       Friday\n",
       "104        5     Saturday\n",
       "37         6       Sunday"
      ]
     },
     "execution_count": 10,
     "metadata": {},
     "output_type": "execute_result"
    }
   ],
   "source": [
    "data_cleaned[['weekday','weekday_name']].drop_duplicates().sort_values(by='weekday')"
   ]
  },
  {
   "cell_type": "markdown",
   "metadata": {},
   "source": [
    "## 2.3 Merge with the playlist mapper table"
   ]
  },
  {
   "cell_type": "code",
   "execution_count": 11,
   "metadata": {},
   "outputs": [],
   "source": [
    "#split the stream_source_uri column and extract the playlist id\n",
    "def extract_playlistid(uri):\n",
    "    if type(uri) == str:\n",
    "        playlistid = uri.split(':')[-1]\n",
    "        return playlistid\n",
    "\n",
    "data_cleaned.loc[:,'playlistid'] = data_cleaned.loc[:,'stream_source_uri'].apply(extract_playlistid)"
   ]
  },
  {
   "cell_type": "markdown",
   "metadata": {},
   "source": [
    "Left join rather than inner join has been used here so that those rows that are not matched with a playlist name are still kept"
   ]
  },
  {
   "cell_type": "code",
   "execution_count": 12,
   "metadata": {},
   "outputs": [],
   "source": [
    "# left join the data_cleaned table with the playlist_mapper table\n",
    "data_cleaned = pd.merge(data_cleaned,playlist_mapper,left_on='playlistid',right_on='id',how='left')"
   ]
  },
  {
   "cell_type": "code",
   "execution_count": 13,
   "metadata": {},
   "outputs": [],
   "source": [
    "#change the name of the playlist name column\n",
    "data_cleaned.rename(columns={'name':'playlist_name'},inplace=True)"
   ]
  },
  {
   "cell_type": "markdown",
   "metadata": {},
   "source": [
    "## 2.4 Exploratory Data Analysis\n"
   ]
  },
  {
   "cell_type": "markdown",
   "metadata": {},
   "source": [
    "<div class=\"alert alert-warning\">\n",
    "<b>ACTION: Exploratory analysis </b> \n",
    "\n",
    "<p>As demonstrated in class, explore various distribution of the data. Comment on any patterns you can see.</p>\n",
    "\n",
    "<p>- Highlight on any potential uncertainties or peculiarities that you observe. </p> \n",
    "\n",
    "<p>- Variables you might explore, include, but are not limited to: Age, Gender, Stream counts and playlists.</p>\n",
    "\n",
    "<p> - Use figures, plots and visualization as necessary.</p>\n",
    "\n",
    "</div>"
   ]
  },
  {
   "cell_type": "markdown",
   "metadata": {},
   "source": [
    "### 2.4.1 Explore the year column"
   ]
  },
  {
   "cell_type": "code",
   "execution_count": 14,
   "metadata": {},
   "outputs": [
    {
     "data": {
      "text/plain": [
       "2017    1871744\n",
       "2016    1727360\n",
       "2015     205293\n",
       "2014       1102\n",
       "Name: year, dtype: int64"
      ]
     },
     "execution_count": 14,
     "metadata": {},
     "output_type": "execute_result"
    }
   ],
   "source": [
    "data_cleaned['year'].value_counts()"
   ]
  },
  {
   "cell_type": "code",
   "execution_count": 15,
   "metadata": {},
   "outputs": [
    {
     "data": {
      "image/png": "[encoded data removed]",
      "text/plain": [
       "<Figure size 432x288 with 1 Axes>"
      ]
     },
     "metadata": {
      "needs_background": "light"
     },
     "output_type": "display_data"
    }
   ],
   "source": [
    "data_cleaned['year'].value_counts().plot.bar(rot=0)\n",
    "plt.show()"
   ]
  },
  {
   "cell_type": "markdown",
   "metadata": {},
   "source": [
    "It is noticed that most of the data are in the year 2017 and 2016."
   ]
  },
  {
   "cell_type": "markdown",
   "metadata": {},
   "source": [
    "### 2.4.2 Explore the month column"
   ]
  },
  {
   "cell_type": "code",
   "execution_count": 16,
   "metadata": {},
   "outputs": [
    {
     "data": {
      "text/plain": [
       "1     216827\n",
       "2     330117\n",
       "3     367099\n",
       "4     368955\n",
       "5     502617\n",
       "6     508746\n",
       "7     467486\n",
       "8     198614\n",
       "9     220286\n",
       "10    210835\n",
       "11    218602\n",
       "12    195315\n",
       "Name: month, dtype: int64"
      ]
     },
     "execution_count": 16,
     "metadata": {},
     "output_type": "execute_result"
    }
   ],
   "source": [
    "data_cleaned['month'].value_counts().sort_index()"
   ]
  },
  {
   "cell_type": "code",
   "execution_count": 17,
   "metadata": {},
   "outputs": [
    {
     "data": {
      "image/png": "[encoded data removed]",
      "text/plain": [
       "<Figure size 432x288 with 1 Axes>"
      ]
     },
     "metadata": {
      "needs_background": "light"
     },
     "output_type": "display_data"
    }
   ],
   "source": [
    "data_cleaned['month'].value_counts().sort_index().plot.bar(rot=0)\n",
    "plt.show()"
   ]
  },
  {
   "cell_type": "markdown",
   "metadata": {},
   "source": [
    "Most of the data are concentrated between May and July and the second half of the year have less stream than the first half of the year."
   ]
  },
  {
   "cell_type": "markdown",
   "metadata": {},
   "source": [
    "### 2.4.3 Explore the weekday column"
   ]
  },
  {
   "cell_type": "code",
   "execution_count": 18,
   "metadata": {},
   "outputs": [
    {
     "data": {
      "text/plain": [
       "0    763953\n",
       "1    356765\n",
       "2    646564\n",
       "3    354268\n",
       "4    659597\n",
       "5    697951\n",
       "6    326401\n",
       "Name: weekday, dtype: int64"
      ]
     },
     "execution_count": 18,
     "metadata": {},
     "output_type": "execute_result"
    }
   ],
   "source": [
    "data_cleaned['weekday'].value_counts().sort_index()"
   ]
  },
  {
   "cell_type": "code",
   "execution_count": 19,
   "metadata": {},
   "outputs": [
    {
     "data": {
      "image/png": "[encoded data removed]",
      "text/plain": [
       "<Figure size 432x288 with 1 Axes>"
      ]
     },
     "metadata": {
      "needs_background": "light"
     },
     "output_type": "display_data"
    }
   ],
   "source": [
    "data_cleaned['weekday'].value_counts().sort_index().plot.bar(rot=0)\n",
    "plt.show()"
   ]
  },
  {
   "cell_type": "markdown",
   "metadata": {},
   "source": [
    "Noted that 0 refers to Monday and 6 refers to Sunday. No particular trend has been shown among weekdays. Monday, Wednesday, Friday and Saturday have relatively more streams than other weekdays."
   ]
  },
  {
   "cell_type": "markdown",
   "metadata": {},
   "source": [
    "### 2.4.4 Explore the hour and minute column"
   ]
  },
  {
   "cell_type": "code",
   "execution_count": 20,
   "metadata": {},
   "outputs": [
    {
     "data": {
      "text/plain": [
       "0      64334\n",
       "1      47165\n",
       "2      37153\n",
       "3      31943\n",
       "4      30146\n",
       "5      42608\n",
       "6      95303\n",
       "7     155764\n",
       "8     170851\n",
       "9     181998\n",
       "10    209981\n",
       "11    218253\n",
       "12    214627\n",
       "13    215455\n",
       "14    231447\n",
       "15    256739\n",
       "16    275134\n",
       "17    272160\n",
       "18    250817\n",
       "19    225437\n",
       "20    194429\n",
       "21    162682\n",
       "22    127893\n",
       "23     93180\n",
       "Name: hour, dtype: int64"
      ]
     },
     "execution_count": 20,
     "metadata": {},
     "output_type": "execute_result"
    }
   ],
   "source": [
    "data_cleaned['hour'].value_counts().sort_index()"
   ]
  },
  {
   "cell_type": "code",
   "execution_count": 21,
   "metadata": {},
   "outputs": [
    {
     "data": {
      "image/png": "[encoded data removed]",
      "text/plain": [
       "<Figure size 432x288 with 1 Axes>"
      ]
     },
     "metadata": {
      "needs_background": "light"
     },
     "output_type": "display_data"
    }
   ],
   "source": [
    "data_cleaned['hour'].value_counts().sort_index().plot.bar(rot=0)\n",
    "plt.show()"
   ]
  },
  {
   "cell_type": "markdown",
   "metadata": {},
   "source": [
    "The above chart shows an interesting trend where most streams happen in the afternoon rush hours (peaked at 4pm). However, there is no obvious increase during the morning rush hours. "
   ]
  },
  {
   "cell_type": "code",
   "execution_count": 22,
   "metadata": {},
   "outputs": [
    {
     "data": {
      "image/png": "[encoded data removed]",
      "text/plain": [
       "<Figure size 432x288 with 1 Axes>"
      ]
     },
     "metadata": {
      "needs_background": "light"
     },
     "output_type": "display_data"
    }
   ],
   "source": [
    "data_cleaned['minute'].value_counts().sort_index().plot.bar(rot=0)\n",
    "plt.show()"
   ]
  },
  {
   "cell_type": "markdown",
   "metadata": {},
   "source": [
    "At the minute level, no significant difference between different time in a hour. "
   ]
  },
  {
   "cell_type": "markdown",
   "metadata": {},
   "source": [
    "### 2.4.5 Explore the artist_name and track_name column"
   ]
  },
  {
   "cell_type": "code",
   "execution_count": 23,
   "metadata": {},
   "outputs": [
    {
     "data": {
      "text/plain": [
       "661"
      ]
     },
     "execution_count": 23,
     "metadata": {},
     "output_type": "execute_result"
    }
   ],
   "source": [
    "len(data_cleaned['artist_name'].value_counts())"
   ]
  },
  {
   "cell_type": "code",
   "execution_count": 24,
   "metadata": {},
   "outputs": [
    {
     "data": {
      "text/plain": [
       "Charlie Puth    11.769100\n",
       "Dua Lipa         8.294917\n",
       "Lukas Graham     8.179505\n",
       "Cheat Codes      6.722377\n",
       "Anne-Marie       6.515151\n",
       "Matoma           5.576404\n",
       "gnash            4.353779\n",
       "WSTRN            4.332809\n",
       "Lil Uzi Vert     3.854738\n",
       "The Hunna        3.476206\n",
       "Name: artist_name, dtype: float64"
      ]
     },
     "execution_count": 24,
     "metadata": {},
     "output_type": "execute_result"
    }
   ],
   "source": [
    "#The percentage of streams for the top 10 artists\n",
    "(data_cleaned['artist_name'].value_counts()/data_cleaned['artist_name'].value_counts().sum()*100)[:10]"
   ]
  },
  {
   "cell_type": "markdown",
   "metadata": {},
   "source": [
    "It is found out that there are in total 661 artists in this dataset, however, the top 10 most streamed artists account for more than 60% of the total amount of streams with Charlie Puth as the most streamed artist, which implies it is a very long-tailed distribution."
   ]
  },
  {
   "cell_type": "code",
   "execution_count": 25,
   "metadata": {},
   "outputs": [
    {
     "data": {
      "text/plain": [
       "3848"
      ]
     },
     "execution_count": 25,
     "metadata": {},
     "output_type": "execute_result"
    }
   ],
   "source": [
    "len(data_cleaned['track_name'].value_counts())"
   ]
  },
  {
   "cell_type": "code",
   "execution_count": 26,
   "metadata": {},
   "outputs": [
    {
     "data": {
      "text/plain": [
       "7 Years                                       6.093682\n",
       "i hate u, i love u (feat. olivia o'brien)     3.888610\n",
       "iSpy (feat. Lil Yachty)                       3.125083\n",
       "Sex                                           3.077862\n",
       "We Don't Talk Anymore (feat. Selena Gomez)    3.048483\n",
       "Alarm                                         2.967994\n",
       "Marvin Gaye (feat. Meghan Trainor)            2.937381\n",
       "In2                                           2.857181\n",
       "Ciao Adios                                    2.470714\n",
       "Be The One                                    2.406833\n",
       "Name: track_name, dtype: float64"
      ]
     },
     "execution_count": 26,
     "metadata": {},
     "output_type": "execute_result"
    }
   ],
   "source": [
    "(data_cleaned['track_name'].value_counts()/data_cleaned['track_name'].value_counts().sum()*100)[:10]"
   ]
  },
  {
   "cell_type": "markdown",
   "metadata": {},
   "source": [
    "The similar trend has been found for the tracks, but the distribution is less concentrated on the first few tracks compared to the artist_name column."
   ]
  },
  {
   "cell_type": "markdown",
   "metadata": {},
   "source": [
    "### 2.4.6 Explore the age and gender of customers"
   ]
  },
  {
   "cell_type": "code",
   "execution_count": 27,
   "metadata": {},
   "outputs": [
    {
     "data": {
      "image/png": "[encoded data removed]",
      "text/plain": [
       "<Figure size 432x288 with 1 Axes>"
      ]
     },
     "metadata": {
      "needs_background": "light"
     },
     "output_type": "display_data"
    },
    {
     "data": {
      "text/plain": [
       "female    0.519437\n",
       "male      0.480563\n",
       "Name: gender, dtype: float64"
      ]
     },
     "execution_count": 27,
     "metadata": {},
     "output_type": "execute_result"
    }
   ],
   "source": [
    "# the percentage of streams from female / male\n",
    "stream_gender = data_cleaned['gender'].value_counts()/data_cleaned['gender'].value_counts().sum()\n",
    "stream_gender.plot.bar(rot=0)\n",
    "plt.show()\n",
    "\n",
    "stream_gender"
   ]
  },
  {
   "cell_type": "markdown",
   "metadata": {},
   "source": [
    "It is shown that female has slightly more streams than male"
   ]
  },
  {
   "cell_type": "code",
   "execution_count": 28,
   "metadata": {},
   "outputs": [],
   "source": [
    "# generate a unique match for each customer_id and its gender and birth_year\n",
    "unique_gender_age = data_cleaned[['customer_id','gender','birth_year']].drop_duplicates()"
   ]
  },
  {
   "cell_type": "code",
   "execution_count": 29,
   "metadata": {},
   "outputs": [
    {
     "data": {
      "image/png": "[encoded data removed]",
      "text/plain": [
       "<Figure size 432x288 with 1 Axes>"
      ]
     },
     "metadata": {
      "needs_background": "light"
     },
     "output_type": "display_data"
    },
    {
     "data": {
      "text/plain": [
       "female    0.519709\n",
       "male      0.480291\n",
       "Name: gender, dtype: float64"
      ]
     },
     "execution_count": 29,
     "metadata": {},
     "output_type": "execute_result"
    }
   ],
   "source": [
    "# the percentage of female and male customers\n",
    "uni_gender = unique_gender_age['gender'].value_counts()/unique_gender_age['gender'].value_counts().sum()\n",
    "uni_gender.plot.bar(rot=0)\n",
    "plt.show()\n",
    "\n",
    "uni_gender"
   ]
  },
  {
   "cell_type": "markdown",
   "metadata": {},
   "source": [
    "In fact, very similar to the percentage of streams from female and male, the percentage of female customers is slightly more than male. This suggests that the number of streams per customers is similar between female and male."
   ]
  },
  {
   "cell_type": "code",
   "execution_count": 30,
   "metadata": {},
   "outputs": [
    {
     "data": {
      "image/png": "[encoded data removed]",
      "text/plain": [
       "<Figure size 432x288 with 1 Axes>"
      ]
     },
     "metadata": {
      "needs_background": "light"
     },
     "output_type": "display_data"
    }
   ],
   "source": [
    "# the age distribution of customers\n",
    "data_cleaned['birth_year'].value_counts().sort_index().plot()\n",
    "plt.show()"
   ]
  },
  {
   "cell_type": "markdown",
   "metadata": {},
   "source": [
    "As shown above, the main group of customers are born in 1980s and 1990s. And there are obviously some outliers (e.g. born before 1920), which might be wrong data."
   ]
  },
  {
   "cell_type": "markdown",
   "metadata": {},
   "source": [
    "Let's zoom in and see more details of the age distribution. The below graph shows that the majority customers are born between 1990 and 2000. However, there is a sudden increase in 1990, which is not consistent with the general trend, which might be caused by <b>customers inputting wrong data</b>. "
   ]
  },
  {
   "cell_type": "code",
   "execution_count": 31,
   "metadata": {},
   "outputs": [
    {
     "data": {
      "image/png": "[encoded data removed]",
      "text/plain": [
       "<Figure size 432x288 with 1 Axes>"
      ]
     },
     "metadata": {
      "needs_background": "light"
     },
     "output_type": "display_data"
    }
   ],
   "source": [
    "data_cleaned['birth_year'].value_counts().sort_index().loc[1980:2005].plot()\n",
    "plt.show()"
   ]
  },
  {
   "cell_type": "markdown",
   "metadata": {},
   "source": [
    "In order to make use of the birth year variable in further analysis, we need to convert the birth_year variable into a couple of age bins. Suggested by the birth years distribution as shown above, we can bin those born before 1960 into one group because they only represent a small amount of users and then every 10 years are in one bin."
   ]
  },
  {
   "cell_type": "code",
   "execution_count": 32,
   "metadata": {},
   "outputs": [],
   "source": [
    "#binning the birth_year variable\n",
    "def age_bin(year):\n",
    "    if year < 1960:\n",
    "        return 'before_1960'\n",
    "    elif year < 1970:\n",
    "        return '1960s'\n",
    "    elif year < 1980:\n",
    "        return '1970s'\n",
    "    elif year < 1990:\n",
    "        return '1980s'\n",
    "    elif year < 2000:\n",
    "        return '1990s'\n",
    "    else:\n",
    "        return '2000s'\n",
    "\n",
    "unique_gender_age.loc[:,'age_bin'] = unique_gender_age.loc[:,'birth_year'].apply(age_bin)\n",
    "data_cleaned.loc[:,'age_bin'] = data_cleaned.loc[:,'birth_year'].apply(age_bin)"
   ]
  },
  {
   "cell_type": "code",
   "execution_count": 33,
   "metadata": {},
   "outputs": [
    {
     "data": {
      "image/png": "[encoded data removed]",
      "text/plain": [
       "<Figure size 432x288 with 1 Axes>"
      ]
     },
     "metadata": {
      "needs_background": "light"
     },
     "output_type": "display_data"
    },
    {
     "data": {
      "text/plain": [
       "1990s          0.574673\n",
       "1980s          0.184632\n",
       "2000s          0.102505\n",
       "1970s          0.080565\n",
       "1960s          0.045085\n",
       "before_1960    0.012541\n",
       "Name: age_bin, dtype: float64"
      ]
     },
     "execution_count": 33,
     "metadata": {},
     "output_type": "execute_result"
    }
   ],
   "source": [
    "#the percentage of strems from each age group\n",
    "stream_age = data_cleaned['age_bin'].value_counts()/data_cleaned['age_bin'].value_counts().sum()\n",
    "stream_age.plot.bar(rot=0)\n",
    "plt.show()\n",
    "\n",
    "stream_age"
   ]
  },
  {
   "cell_type": "code",
   "execution_count": 34,
   "metadata": {},
   "outputs": [
    {
     "data": {
      "image/png": "[encoded data removed]",
      "text/plain": [
       "<Figure size 432x288 with 1 Axes>"
      ]
     },
     "metadata": {
      "needs_background": "light"
     },
     "output_type": "display_data"
    },
    {
     "data": {
      "text/plain": [
       "1990s          0.560071\n",
       "1980s          0.194725\n",
       "2000s          0.104121\n",
       "1970s          0.083972\n",
       "1960s          0.043832\n",
       "before_1960    0.013279\n",
       "Name: age_bin, dtype: float64"
      ]
     },
     "execution_count": 34,
     "metadata": {},
     "output_type": "execute_result"
    }
   ],
   "source": [
    "#the percentage of customers from each age group\n",
    "uni_age = unique_gender_age['age_bin'].value_counts()/unique_gender_age['age_bin'].value_counts().sum()\n",
    "uni_age.plot.bar(rot=0)\n",
    "plt.show()\n",
    "\n",
    "uni_age"
   ]
  },
  {
   "cell_type": "markdown",
   "metadata": {},
   "source": [
    "As we can see from the above charts, the 1990s are the main users in the platform and followed by 1980s and 2000s. Also, comparing the streams for each age group and the number of users in each age group, it suggests that the number stream per user is similar across age groups. "
   ]
  },
  {
   "cell_type": "markdown",
   "metadata": {},
   "source": [
    "### 2.4.7 Explore the playlist"
   ]
  },
  {
   "cell_type": "code",
   "execution_count": 35,
   "metadata": {},
   "outputs": [
    {
     "data": {
      "text/plain": [
       "Hot Hits UK                         0.197786\n",
       "Today's Top Hits                    0.107631\n",
       "Topsify UK Top 40                   0.056155\n",
       "Freshness: Hot House Music          0.033664\n",
       "The Pop List                        0.029241\n",
       "New Music Monday UK                 0.028386\n",
       "Happy Hits!                         0.019167\n",
       "Summer Hits                         0.017181\n",
       "Top Tracks in The United Kingdom    0.015855\n",
       "You've Got Male - R&B: The Men      0.015092\n",
       "Name: playlist_name, dtype: float64"
      ]
     },
     "execution_count": 35,
     "metadata": {},
     "output_type": "execute_result"
    }
   ],
   "source": [
    "(data_cleaned['playlist_name'].value_counts()/data_cleaned['playlist_name'].value_counts().sum()).iloc[:10]"
   ]
  },
  {
   "cell_type": "markdown",
   "metadata": {},
   "source": [
    "The above shows the top 10 streamed playlist in the dataset, and 'Hot Hits UK' is the most streamed and it is also one of the target playlist in this case. "
   ]
  },
  {
   "cell_type": "markdown",
   "metadata": {},
   "source": [
    "### 2.4.8 Export the cleaned dataset for further steps"
   ]
  },
  {
   "cell_type": "markdown",
   "metadata": {},
   "source": [
    "Exported the cleaned dataset to save the memory."
   ]
  },
  {
   "cell_type": "code",
   "execution_count": 36,
   "metadata": {},
   "outputs": [],
   "source": [
    "data_cleaned.to_csv('data_after_cleaned.csv')"
   ]
  },
  {
   "cell_type": "markdown",
   "metadata": {},
   "source": [
    "-- --"
   ]
  },
  {
   "cell_type": "markdown",
   "metadata": {},
   "source": [
    "# 3.\tData Preperation and Feature Engineering\n",
    "<br>\n",
    "From our business understanding, we know that our criteria for success is whether or not an artist has been on one of 4 key playlists.  The column ‘stream_source_uri’, contains data about the source of the stream – whether it was from an artist’s page, an album, a playlist etc. \n",
    "\n",
    "For streams coming from different playlists, only the Spotify URI code is provided. To make sense of this column and identify our key playlists, we can use the additional table provided that we cleaned above and named 'playlist_mapper'.\n",
    "\n",
    "We can being by out data preperation by subsetting the 4 key playlists we are interested in and creating our dependent variable:"
   ]
  },
  {
   "cell_type": "markdown",
   "metadata": {},
   "source": [
    "## 3.1 Building dependent variable"
   ]
  },
  {
   "cell_type": "markdown",
   "metadata": {},
   "source": [
    "<div class=\"alert alert-warning\">\n",
    "<b>ACTION: Dependant variable </b> \n",
    "\n",
    "<p> Set up the problem as one of classification, selecting the relevant playlists as the variable we are trying to model.</p>\n",
    "\n",
    "<p> Write useful helper functions to support creating of the feature vector and target vector </p>\n",
    "\n",
    "\n",
    "</div>"
   ]
  },
  {
   "cell_type": "code",
   "execution_count": 257,
   "metadata": {},
   "outputs": [],
   "source": [
    "# read in the cleaned dataframe\n",
    "#%%time\n",
    "data_cleaned = pd.read_csv('data_after_cleaned.csv')"
   ]
  },
  {
   "cell_type": "markdown",
   "metadata": {},
   "source": [
    "The first step is to check if the playlist (if exists) of each stream is in one of the four key playlists "
   ]
  },
  {
   "cell_type": "code",
   "execution_count": 258,
   "metadata": {},
   "outputs": [],
   "source": [
    "# 4 key Playlists\n",
    "key_playlist = ['Hot Hits UK','Massive Dance Hits','The Indie List','New Music Friday']\n",
    "\n",
    "# select relevant playlists \n",
    "def set_dep(playlist_name):\n",
    "    if playlist_name in key_playlist:\n",
    "        return 1\n",
    "    else:\n",
    "        return 0\n",
    "\n",
    "data_cleaned['target'] = data_cleaned['playlist_name'].apply(set_dep)"
   ]
  },
  {
   "cell_type": "code",
   "execution_count": 259,
   "metadata": {},
   "outputs": [
    {
     "data": {
      "text/plain": [
       "(202779, 23)"
      ]
     },
     "execution_count": 259,
     "metadata": {},
     "output_type": "execute_result"
    }
   ],
   "source": [
    "data_cleaned[data_cleaned['target']==1].shape"
   ]
  },
  {
   "cell_type": "markdown",
   "metadata": {},
   "source": [
    "Around 200,000 streams are from one of the key playlists"
   ]
  },
  {
   "cell_type": "markdown",
   "metadata": {},
   "source": [
    "However, we cannot simply use all the data to construct the dependent and independent variables. There are mainly two reasons behind this. Firstly, since the definition of successful artist is the four key playlists, if we are using streaming features to build both independent and dependent variable then there is no need to predict anymore because if you know the streaming data of an artist then you will also know if he is in the key playlists as well. Secondly, if all data are used, we could be end up with using the data after one artist succeed to predict if this artist will succeed. "
   ]
  },
  {
   "cell_type": "markdown",
   "metadata": {},
   "source": [
    "Therefore, for those artists that have ever enter the key playlists in the dataset, I am only the data before they enter key playlists for the first time to build independent variables. While for those unsuccessful artists, I am using all of their data to build the independent variables."
   ]
  },
  {
   "cell_type": "code",
   "execution_count": 260,
   "metadata": {},
   "outputs": [],
   "source": [
    "# convert date to datetime format\n",
    "from datetime import datetime\n",
    "\n",
    "def convert_date(data):\n",
    "    datetime_object = datetime.strptime(data, '%Y-%m-%d')\n",
    "    return datetime_object\n",
    "\n",
    "data_cleaned['datetime'] = data_cleaned['date'].apply(convert_date)"
   ]
  },
  {
   "cell_type": "code",
   "execution_count": 261,
   "metadata": {},
   "outputs": [],
   "source": [
    "# checking how many times an artist succeed \n",
    "target_sum = data_cleaned.groupby('artist_name').agg({'target':sum})"
   ]
  },
  {
   "cell_type": "code",
   "execution_count": 262,
   "metadata": {},
   "outputs": [],
   "source": [
    "# getting those artists that haven't been successful at all\n",
    "unsuccess = target_sum[target_sum['target'] == 0].reset_index()\n",
    "unsuccess_data = pd.merge(data_cleaned,unsuccess,on='artist_name',how='inner',suffixes=('','1'))\n",
    "unsuccess_data.drop(columns=['target1'],inplace=True)"
   ]
  },
  {
   "cell_type": "code",
   "execution_count": 263,
   "metadata": {},
   "outputs": [],
   "source": [
    "# getting those artists that have ever been successful\n",
    "success = data_cleaned[data_cleaned['target'] == 1]"
   ]
  },
  {
   "cell_type": "code",
   "execution_count": 264,
   "metadata": {},
   "outputs": [],
   "source": [
    "# getting the first time when these artists enter the key playlist\n",
    "first_success = pd.DataFrame(success.groupby('artist_name')['datetime'].nsmallest(1)).reset_index()"
   ]
  },
  {
   "cell_type": "code",
   "execution_count": 265,
   "metadata": {},
   "outputs": [],
   "source": [
    "# merged with the original dataset to get all data for these successful artists\n",
    "success_mg = pd.merge(data_cleaned,first_success,on='artist_name',how='inner')\n",
    "success_mg.rename(columns={'datetime_x':'datetime','datetime_y':'first_suc_date'},inplace = True)\n",
    "success_mg.drop(columns=['level_1'],inplace=True)"
   ]
  },
  {
   "cell_type": "code",
   "execution_count": 266,
   "metadata": {},
   "outputs": [],
   "source": [
    "# get only the data before they first succeed\n",
    "success_data = success_mg[success_mg['datetime'] < success_mg['first_suc_date']]\n",
    "success_data.drop(columns=['first_suc_date'],inplace=True)"
   ]
  },
  {
   "cell_type": "code",
   "execution_count": 267,
   "metadata": {},
   "outputs": [],
   "source": [
    "# setting the dependent variable for those successful artists to be 1\n",
    "success_data['target'] = 1"
   ]
  },
  {
   "cell_type": "code",
   "execution_count": 268,
   "metadata": {},
   "outputs": [],
   "source": [
    "# concat success and unsuccess artist data\n",
    "data_cleaned = pd.concat([success_data,unsuccess_data],axis=0)"
   ]
  },
  {
   "cell_type": "markdown",
   "metadata": {},
   "source": [
    "## 3.2 FEATURE ENGINEERING\n",
    "\n",
    "1.\tArtist Features\n",
    "2.\tPlaylist Features\n",
    "3.\tUser-base features\n"
   ]
  },
  {
   "cell_type": "markdown",
   "metadata": {},
   "source": [
    "### 3.2.1 Artist features\n",
    "\n",
    "*\tStream count\n",
    "*\tTotal Number of users\n",
    "*\tPassion Score "
   ]
  },
  {
   "cell_type": "markdown",
   "metadata": {},
   "source": [
    "<div class=\"alert alert-warning\">\n",
    "<b>ACTION: Artist features </b> \n",
    "\n",
    "<p> Write useful functions to create these new features. </p>\n",
    "\n",
    "\n",
    "</div>"
   ]
  },
  {
   "cell_type": "markdown",
   "metadata": {},
   "source": [
    "We can use artist passion score to represents an artist's popularity since artist passion score equals stream count per artist divided by total number of unique users of each artist. The higher the passion score, the more popular the artist. "
   ]
  },
  {
   "cell_type": "markdown",
   "metadata": {},
   "source": [
    "#### 3.2.1.1 Stream count per artist"
   ]
  },
  {
   "cell_type": "code",
   "execution_count": 269,
   "metadata": {},
   "outputs": [],
   "source": [
    "# Stream count per artist\n",
    "stream_count_artist = data_cleaned['artist_name'].value_counts()"
   ]
  },
  {
   "cell_type": "code",
   "execution_count": 270,
   "metadata": {},
   "outputs": [
    {
     "data": {
      "text/plain": [
       "The Hunna        40705\n",
       "Coasts           33622\n",
       "A R I Z O N A    19475\n",
       "Matoma           17874\n",
       "Terror Jr        16830\n",
       "RAT BOY          16077\n",
       "VANT             15789\n",
       "Foy Vance        15760\n",
       "dvsn             15497\n",
       "Gallant          14768\n",
       "Rationale        12821\n",
       "Name: artist_name, dtype: int64"
      ]
     },
     "execution_count": 270,
     "metadata": {},
     "output_type": "execute_result"
    }
   ],
   "source": [
    "stream_count_artist[:11]"
   ]
  },
  {
   "cell_type": "markdown",
   "metadata": {},
   "source": [
    "#### 3.2.1.2 Number of users per artist"
   ]
  },
  {
   "cell_type": "code",
   "execution_count": 271,
   "metadata": {},
   "outputs": [],
   "source": [
    "# Number of unique users per artist\n",
    "users_per_artist = data_cleaned[['customer_id','artist_name']].drop_duplicates()['artist_name'].value_counts()"
   ]
  },
  {
   "cell_type": "code",
   "execution_count": 272,
   "metadata": {},
   "outputs": [
    {
     "data": {
      "text/plain": [
       "Coasts           24872\n",
       "The Hunna        20871\n",
       "A R I Z O N A    17869\n",
       "Matoma           16641\n",
       "Terror Jr        13656\n",
       "RAT BOY          12850\n",
       "Foy Vance        12122\n",
       "VANT             12067\n",
       "Gallant          11870\n",
       "dvsn             11540\n",
       "Icarus           11235\n",
       "Name: artist_name, dtype: int64"
      ]
     },
     "execution_count": 272,
     "metadata": {},
     "output_type": "execute_result"
    }
   ],
   "source": [
    "users_per_artist[:11]"
   ]
  },
  {
   "cell_type": "markdown",
   "metadata": {},
   "source": [
    "#### 3.2.1.3 Artist Passion Score"
   ]
  },
  {
   "cell_type": "code",
   "execution_count": 273,
   "metadata": {},
   "outputs": [],
   "source": [
    "# Passion Score\n",
    "artist_passion_score = pd.merge(stream_count_artist.reset_index(),users_per_artist.reset_index(),on='index',how='inner')\n",
    "artist_passion_score.rename(columns={'index':'artist_name',\n",
    "                                     'artist_name_x':'stream_count_artist',\n",
    "                                     'artist_name_y':'users_per_artist'},inplace=True)"
   ]
  },
  {
   "cell_type": "code",
   "execution_count": 274,
   "metadata": {},
   "outputs": [],
   "source": [
    "artist_passion_score['passion_score'] = artist_passion_score['stream_count_artist']/artist_passion_score['users_per_artist']"
   ]
  },
  {
   "cell_type": "code",
   "execution_count": 275,
   "metadata": {},
   "outputs": [
    {
     "data": {
      "text/html": [
       "<div>\n",
       "<style scoped>\n",
       "    .dataframe tbody tr th:only-of-type {\n",
       "        vertical-align: middle;\n",
       "    }\n",
       "\n",
       "    .dataframe tbody tr th {\n",
       "        vertical-align: top;\n",
       "    }\n",
       "\n",
       "    .dataframe thead th {\n",
       "        text-align: right;\n",
       "    }\n",
       "</style>\n",
       "<table border=\"1\" class=\"dataframe\">\n",
       "  <thead>\n",
       "    <tr style=\"text-align: right;\">\n",
       "      <th></th>\n",
       "      <th>artist_name</th>\n",
       "      <th>stream_count_artist</th>\n",
       "      <th>users_per_artist</th>\n",
       "      <th>passion_score</th>\n",
       "    </tr>\n",
       "  </thead>\n",
       "  <tbody>\n",
       "    <tr>\n",
       "      <th>0</th>\n",
       "      <td>The Hunna</td>\n",
       "      <td>40705</td>\n",
       "      <td>20871</td>\n",
       "      <td>1.950314</td>\n",
       "    </tr>\n",
       "    <tr>\n",
       "      <th>1</th>\n",
       "      <td>Coasts</td>\n",
       "      <td>33622</td>\n",
       "      <td>24872</td>\n",
       "      <td>1.351801</td>\n",
       "    </tr>\n",
       "    <tr>\n",
       "      <th>2</th>\n",
       "      <td>A R I Z O N A</td>\n",
       "      <td>19475</td>\n",
       "      <td>17869</td>\n",
       "      <td>1.089876</td>\n",
       "    </tr>\n",
       "    <tr>\n",
       "      <th>3</th>\n",
       "      <td>Matoma</td>\n",
       "      <td>17874</td>\n",
       "      <td>16641</td>\n",
       "      <td>1.074094</td>\n",
       "    </tr>\n",
       "    <tr>\n",
       "      <th>4</th>\n",
       "      <td>Terror Jr</td>\n",
       "      <td>16830</td>\n",
       "      <td>13656</td>\n",
       "      <td>1.232425</td>\n",
       "    </tr>\n",
       "  </tbody>\n",
       "</table>\n",
       "</div>"
      ],
      "text/plain": [
       "     artist_name  stream_count_artist  users_per_artist  passion_score\n",
       "0      The Hunna                40705             20871       1.950314\n",
       "1         Coasts                33622             24872       1.351801\n",
       "2  A R I Z O N A                19475             17869       1.089876\n",
       "3         Matoma                17874             16641       1.074094\n",
       "4      Terror Jr                16830             13656       1.232425"
      ]
     },
     "execution_count": 275,
     "metadata": {},
     "output_type": "execute_result"
    }
   ],
   "source": [
    "artist_passion_score.head()"
   ]
  },
  {
   "cell_type": "markdown",
   "metadata": {},
   "source": [
    "#### 3.2.1.4 The number of playlists each artist featured in"
   ]
  },
  {
   "cell_type": "markdown",
   "metadata": {},
   "source": [
    "Apart from the artist passion score, we can also use the number of playlists that each artist has featured in as one of the features to represent the popularity of an artist. "
   ]
  },
  {
   "cell_type": "code",
   "execution_count": 276,
   "metadata": {},
   "outputs": [],
   "source": [
    "ap_unique = data_cleaned[['artist_name','playlist_name']].drop_duplicates()"
   ]
  },
  {
   "cell_type": "code",
   "execution_count": 277,
   "metadata": {},
   "outputs": [],
   "source": [
    "num_playlist = pd.DataFrame(ap_unique.groupby('artist_name').size(),columns=['num_playlist']).reset_index()"
   ]
  },
  {
   "cell_type": "markdown",
   "metadata": {},
   "source": [
    "### 3.2.2 Playlist Features"
   ]
  },
  {
   "cell_type": "markdown",
   "metadata": {},
   "source": [
    "\n",
    "* Prior Playlist Stream Counts\n",
    "* Prior Playlist Unique Users (Reach)\n",
    "* Prior Playlist Passion Score\n"
   ]
  },
  {
   "cell_type": "markdown",
   "metadata": {},
   "source": [
    "<div class=\"alert alert-warning\">\n",
    "<b>ACTION: Playlist features </b> \n",
    "\n",
    "<p> Write useful functions to create new playlist features, like those listed in the cell above. </p>\n",
    "\n",
    "<p> Are there other sensible ones you could suggest, work in your group to think about what other features might be useful and whether you can calculate them with the data you have </p>\n",
    "\n",
    "</div>"
   ]
  },
  {
   "cell_type": "markdown",
   "metadata": {},
   "source": [
    "Similar to the idea of artist passion score, we can also use playlist passion score to represent the popularity of playlists. And the playlist passion scores equals to the stream count of each playlist divided by the number of unique users of each playlist. "
   ]
  },
  {
   "cell_type": "markdown",
   "metadata": {},
   "source": [
    "#### 3.2.2.1 Stream count per playlist"
   ]
  },
  {
   "cell_type": "code",
   "execution_count": 278,
   "metadata": {},
   "outputs": [],
   "source": [
    "stream_count_playlist = data_cleaned['playlist_name'].value_counts()"
   ]
  },
  {
   "cell_type": "code",
   "execution_count": 279,
   "metadata": {},
   "outputs": [
    {
     "data": {
      "text/plain": [
       "New Music Monday UK              10372\n",
       "Freshness: Hot House Music        8927\n",
       "Topsify UK Top 40                 8436\n",
       "Today's Top Hits                  8226\n",
       "Rap Caviar                        7388\n",
       "UK House Music                    4727\n",
       "Radio 1 Playlist (BBC)            4432\n",
       "RapCaviar                         3591\n",
       "The Pop List                      3436\n",
       "Indie Music To Cheer The Ears     3132\n",
       "Happy Hits!                       2892\n",
       "Name: playlist_name, dtype: int64"
      ]
     },
     "execution_count": 279,
     "metadata": {},
     "output_type": "execute_result"
    }
   ],
   "source": [
    "stream_count_playlist[:11]"
   ]
  },
  {
   "cell_type": "markdown",
   "metadata": {},
   "source": [
    "#### 3.2.2.2 Users per playlist"
   ]
  },
  {
   "cell_type": "code",
   "execution_count": 280,
   "metadata": {},
   "outputs": [],
   "source": [
    "users_per_playlist = data_cleaned[['customer_id','playlist_name']].drop_duplicates()['playlist_name'].value_counts()"
   ]
  },
  {
   "cell_type": "code",
   "execution_count": 281,
   "metadata": {},
   "outputs": [
    {
     "data": {
      "text/plain": [
       "New Music Monday UK              9553\n",
       "Freshness: Hot House Music       8517\n",
       "Today's Top Hits                 7877\n",
       "Topsify UK Top 40                6912\n",
       "Rap Caviar                       6473\n",
       "UK House Music                   4418\n",
       "Radio 1 Playlist (BBC)           3873\n",
       "The Pop List                     3278\n",
       "RapCaviar                        3154\n",
       "Indie Music To Cheer The Ears    2897\n",
       "Happy Hits!                      2746\n",
       "Name: playlist_name, dtype: int64"
      ]
     },
     "execution_count": 281,
     "metadata": {},
     "output_type": "execute_result"
    }
   ],
   "source": [
    "users_per_playlist[:11]"
   ]
  },
  {
   "cell_type": "markdown",
   "metadata": {},
   "source": [
    "#### 3.2.2.3 Playlist Passion Score"
   ]
  },
  {
   "cell_type": "code",
   "execution_count": 282,
   "metadata": {},
   "outputs": [],
   "source": [
    "playlist_passion_score = pd.merge(stream_count_playlist.reset_index(),users_per_playlist.reset_index(),\n",
    "                                  on='index',how='inner')\n",
    "playlist_passion_score.rename(columns={'index':'playlist_name',\n",
    "                                       'playlist_name_x':'stream_count_playlist',\n",
    "                                       'playlist_name_y':'users_per_playlist'},inplace=True)"
   ]
  },
  {
   "cell_type": "code",
   "execution_count": 283,
   "metadata": {},
   "outputs": [],
   "source": [
    "playlist_passion_score['passion_score'] = playlist_passion_score['stream_count_playlist']/playlist_passion_score['users_per_playlist']"
   ]
  },
  {
   "cell_type": "code",
   "execution_count": 284,
   "metadata": {},
   "outputs": [
    {
     "data": {
      "text/html": [
       "<div>\n",
       "<style scoped>\n",
       "    .dataframe tbody tr th:only-of-type {\n",
       "        vertical-align: middle;\n",
       "    }\n",
       "\n",
       "    .dataframe tbody tr th {\n",
       "        vertical-align: top;\n",
       "    }\n",
       "\n",
       "    .dataframe thead th {\n",
       "        text-align: right;\n",
       "    }\n",
       "</style>\n",
       "<table border=\"1\" class=\"dataframe\">\n",
       "  <thead>\n",
       "    <tr style=\"text-align: right;\">\n",
       "      <th></th>\n",
       "      <th>playlist_name</th>\n",
       "      <th>stream_count_playlist</th>\n",
       "      <th>users_per_playlist</th>\n",
       "      <th>passion_score</th>\n",
       "    </tr>\n",
       "  </thead>\n",
       "  <tbody>\n",
       "    <tr>\n",
       "      <th>0</th>\n",
       "      <td>New Music Monday UK</td>\n",
       "      <td>10372</td>\n",
       "      <td>9553</td>\n",
       "      <td>1.085732</td>\n",
       "    </tr>\n",
       "    <tr>\n",
       "      <th>1</th>\n",
       "      <td>Freshness: Hot House Music</td>\n",
       "      <td>8927</td>\n",
       "      <td>8517</td>\n",
       "      <td>1.048139</td>\n",
       "    </tr>\n",
       "    <tr>\n",
       "      <th>2</th>\n",
       "      <td>Topsify UK Top 40</td>\n",
       "      <td>8436</td>\n",
       "      <td>6912</td>\n",
       "      <td>1.220486</td>\n",
       "    </tr>\n",
       "    <tr>\n",
       "      <th>3</th>\n",
       "      <td>Today's Top Hits</td>\n",
       "      <td>8226</td>\n",
       "      <td>7877</td>\n",
       "      <td>1.044306</td>\n",
       "    </tr>\n",
       "    <tr>\n",
       "      <th>4</th>\n",
       "      <td>Rap Caviar</td>\n",
       "      <td>7388</td>\n",
       "      <td>6473</td>\n",
       "      <td>1.141356</td>\n",
       "    </tr>\n",
       "  </tbody>\n",
       "</table>\n",
       "</div>"
      ],
      "text/plain": [
       "                playlist_name  stream_count_playlist  users_per_playlist  \\\n",
       "0         New Music Monday UK                  10372                9553   \n",
       "1  Freshness: Hot House Music                   8927                8517   \n",
       "2           Topsify UK Top 40                   8436                6912   \n",
       "3            Today's Top Hits                   8226                7877   \n",
       "4                  Rap Caviar                   7388                6473   \n",
       "\n",
       "   passion_score  \n",
       "0       1.085732  \n",
       "1       1.048139  \n",
       "2       1.220486  \n",
       "3       1.044306  \n",
       "4       1.141356  "
      ]
     },
     "execution_count": 284,
     "metadata": {},
     "output_type": "execute_result"
    }
   ],
   "source": [
    "playlist_passion_score.head()"
   ]
  },
  {
   "cell_type": "markdown",
   "metadata": {},
   "source": [
    "#### 3.2.2.4 Weighted average of top 20 playlists' passion scores for each artist"
   ]
  },
  {
   "cell_type": "markdown",
   "metadata": {},
   "source": [
    "In order to merge the playlist features with each artist, we need to find a way to relate the playlist passion scores with each artist. The way that I propose is that for each artist, find the top 20 streamed playlists for each artist and then calculate the weighted average (weighted according to the number of streams of each top 20 playlist) passion score for each artist. "
   ]
  },
  {
   "cell_type": "code",
   "execution_count": 285,
   "metadata": {},
   "outputs": [],
   "source": [
    "# find the top 20 streamed playlists for each artists\n",
    "artist_playlist_count = data_cleaned.groupby(['artist_name','playlist_name']).size()\n",
    "artist_playlist_count = artist_playlist_count.groupby(level=0,group_keys=False).nlargest(20)\n",
    "ap_df = pd.DataFrame(artist_playlist_count).reset_index()\n",
    "ap_df.rename(columns={0:'stream_count'},inplace=True)"
   ]
  },
  {
   "cell_type": "code",
   "execution_count": 286,
   "metadata": {},
   "outputs": [],
   "source": [
    "# merge with the relevant playlist passion score\n",
    "ap_mg = ap_df.merge(playlist_passion_score,on='playlist_name',how='inner')\n",
    "ap_mg = ap_mg.sort_values(by=['artist_name','stream_count'],ascending=[1,0])\n",
    "ap_mg.drop(columns=['stream_count_playlist','users_per_playlist'],inplace=True)"
   ]
  },
  {
   "cell_type": "code",
   "execution_count": 287,
   "metadata": {},
   "outputs": [],
   "source": [
    "# calculate the weighted average passion scores for each artist\n",
    "artist_20_sum = ap_mg.groupby(['artist_name']).agg({'stream_count':sum})\n",
    "ap_mg = ap_mg.merge(artist_20_sum,on='artist_name',how='inner',suffixes=('', '_sum'))\n",
    "ap_mg['wavg_passion'] = ap_mg['stream_count']*ap_mg['passion_score']/ap_mg['stream_count_sum']"
   ]
  },
  {
   "cell_type": "code",
   "execution_count": 288,
   "metadata": {},
   "outputs": [],
   "source": [
    "artist_wavg = ap_mg.groupby('artist_name').agg({'wavg_passion':sum})"
   ]
  },
  {
   "cell_type": "markdown",
   "metadata": {},
   "source": [
    "### 3.2.3 User-base features\n",
    "\n",
    "We can use the age and gender columns to create an audience profile per artist.\n",
    "*\tGender Percentage Breakdown\n",
    "*\tAge vector quantization \n"
   ]
  },
  {
   "cell_type": "markdown",
   "metadata": {},
   "source": [
    "<div class=\"alert alert-warning\">\n",
    "<b>ACTION: User features </b> \n",
    "\n",
    "<p> Write useful functions to create new user features, like those listed in the cell above. </p>\n",
    "\n",
    "<p> Are there other sensible ones you could suggest? Work in your group to think about what other features might be useful and whether you can calculate them with the data you have. Justify your reasoning. </p>\n",
    "\n",
    "</div>"
   ]
  },
  {
   "cell_type": "markdown",
   "metadata": {},
   "source": [
    "#### 3.2.3.1 Users gender breakdown of artists"
   ]
  },
  {
   "cell_type": "markdown",
   "metadata": {},
   "source": [
    "We can calculate the proportion of female and male users for each artist and use this as a feature. "
   ]
  },
  {
   "cell_type": "code",
   "execution_count": 289,
   "metadata": {},
   "outputs": [],
   "source": [
    "unique_artist_gender = data_cleaned[['customer_id','artist_name','gender']].drop_duplicates()"
   ]
  },
  {
   "cell_type": "code",
   "execution_count": 290,
   "metadata": {},
   "outputs": [],
   "source": [
    "# Count the number of users for each gender for each artist\n",
    "artist_gender_count = unique_artist_gender.groupby(['artist_name','gender']).agg(['count'])"
   ]
  },
  {
   "cell_type": "code",
   "execution_count": 291,
   "metadata": {},
   "outputs": [],
   "source": [
    "# Calculate the proportion of gender for each artist \n",
    "artist_gender_prop = artist_gender_count.groupby(level=0).apply(lambda x: x / float(x.sum()))"
   ]
  },
  {
   "cell_type": "code",
   "execution_count": 292,
   "metadata": {},
   "outputs": [],
   "source": [
    "# fill missing values\n",
    "artist_gender_prop = artist_gender_prop.reset_index().set_index(['artist_name',\n",
    "                                                                 'gender']).unstack().fillna(0)"
   ]
  },
  {
   "cell_type": "code",
   "execution_count": 293,
   "metadata": {},
   "outputs": [],
   "source": [
    "# drop two levels of multi-level index\n",
    "artist_gender_prop.columns = artist_gender_prop.columns.droplevel().droplevel()"
   ]
  },
  {
   "cell_type": "code",
   "execution_count": 294,
   "metadata": {},
   "outputs": [
    {
     "data": {
      "text/html": [
       "<div>\n",
       "<style scoped>\n",
       "    .dataframe tbody tr th:only-of-type {\n",
       "        vertical-align: middle;\n",
       "    }\n",
       "\n",
       "    .dataframe tbody tr th {\n",
       "        vertical-align: top;\n",
       "    }\n",
       "\n",
       "    .dataframe thead th {\n",
       "        text-align: right;\n",
       "    }\n",
       "</style>\n",
       "<table border=\"1\" class=\"dataframe\">\n",
       "  <thead>\n",
       "    <tr style=\"text-align: right;\">\n",
       "      <th>gender</th>\n",
       "      <th>female</th>\n",
       "      <th>male</th>\n",
       "    </tr>\n",
       "    <tr>\n",
       "      <th>artist_name</th>\n",
       "      <th></th>\n",
       "      <th></th>\n",
       "    </tr>\n",
       "  </thead>\n",
       "  <tbody>\n",
       "    <tr>\n",
       "      <th>#90s Update</th>\n",
       "      <td>0.400000</td>\n",
       "      <td>0.600000</td>\n",
       "    </tr>\n",
       "    <tr>\n",
       "      <th>17 Memphis</th>\n",
       "      <td>0.666667</td>\n",
       "      <td>0.333333</td>\n",
       "    </tr>\n",
       "    <tr>\n",
       "      <th>2D</th>\n",
       "      <td>0.000000</td>\n",
       "      <td>1.000000</td>\n",
       "    </tr>\n",
       "    <tr>\n",
       "      <th>3JS</th>\n",
       "      <td>0.250000</td>\n",
       "      <td>0.750000</td>\n",
       "    </tr>\n",
       "    <tr>\n",
       "      <th>99 Percent</th>\n",
       "      <td>0.680307</td>\n",
       "      <td>0.319693</td>\n",
       "    </tr>\n",
       "  </tbody>\n",
       "</table>\n",
       "</div>"
      ],
      "text/plain": [
       "gender         female      male\n",
       "artist_name                    \n",
       "#90s Update  0.400000  0.600000\n",
       "17 Memphis   0.666667  0.333333\n",
       "2D           0.000000  1.000000\n",
       "3JS          0.250000  0.750000\n",
       "99 Percent   0.680307  0.319693"
      ]
     },
     "execution_count": 294,
     "metadata": {},
     "output_type": "execute_result"
    }
   ],
   "source": [
    "artist_gender_prop.head()"
   ]
  },
  {
   "cell_type": "markdown",
   "metadata": {},
   "source": [
    "#### 3.2.3.2 Users age breakdown of artists"
   ]
  },
  {
   "cell_type": "code",
   "execution_count": 295,
   "metadata": {},
   "outputs": [],
   "source": [
    "unique_artist_age = data_cleaned[['customer_id','artist_name','age_bin']].drop_duplicates()"
   ]
  },
  {
   "cell_type": "code",
   "execution_count": 296,
   "metadata": {},
   "outputs": [],
   "source": [
    "artist_age_count = unique_artist_age.groupby(['artist_name','age_bin']).agg(['count'])"
   ]
  },
  {
   "cell_type": "code",
   "execution_count": 297,
   "metadata": {},
   "outputs": [],
   "source": [
    "artist_age_prop = artist_age_count.groupby(level=0).apply(lambda x: x / float(x.sum()))"
   ]
  },
  {
   "cell_type": "code",
   "execution_count": 298,
   "metadata": {},
   "outputs": [],
   "source": [
    "artist_age_prop = artist_age_prop.unstack().fillna(0)"
   ]
  },
  {
   "cell_type": "code",
   "execution_count": 299,
   "metadata": {},
   "outputs": [],
   "source": [
    "# drop two levels of multi-level index\n",
    "artist_age_prop.columns = artist_age_prop.columns.droplevel().droplevel()"
   ]
  },
  {
   "cell_type": "code",
   "execution_count": 300,
   "metadata": {},
   "outputs": [
    {
     "data": {
      "text/html": [
       "<div>\n",
       "<style scoped>\n",
       "    .dataframe tbody tr th:only-of-type {\n",
       "        vertical-align: middle;\n",
       "    }\n",
       "\n",
       "    .dataframe tbody tr th {\n",
       "        vertical-align: top;\n",
       "    }\n",
       "\n",
       "    .dataframe thead th {\n",
       "        text-align: right;\n",
       "    }\n",
       "</style>\n",
       "<table border=\"1\" class=\"dataframe\">\n",
       "  <thead>\n",
       "    <tr style=\"text-align: right;\">\n",
       "      <th>age_bin</th>\n",
       "      <th>1960s</th>\n",
       "      <th>1970s</th>\n",
       "      <th>1980s</th>\n",
       "      <th>1990s</th>\n",
       "      <th>2000s</th>\n",
       "      <th>before_1960</th>\n",
       "    </tr>\n",
       "    <tr>\n",
       "      <th>artist_name</th>\n",
       "      <th></th>\n",
       "      <th></th>\n",
       "      <th></th>\n",
       "      <th></th>\n",
       "      <th></th>\n",
       "      <th></th>\n",
       "    </tr>\n",
       "  </thead>\n",
       "  <tbody>\n",
       "    <tr>\n",
       "      <th>#90s Update</th>\n",
       "      <td>0.000000</td>\n",
       "      <td>0.200000</td>\n",
       "      <td>0.333333</td>\n",
       "      <td>0.400000</td>\n",
       "      <td>0.066667</td>\n",
       "      <td>0.000000</td>\n",
       "    </tr>\n",
       "    <tr>\n",
       "      <th>17 Memphis</th>\n",
       "      <td>0.083333</td>\n",
       "      <td>0.000000</td>\n",
       "      <td>0.083333</td>\n",
       "      <td>0.666667</td>\n",
       "      <td>0.166667</td>\n",
       "      <td>0.000000</td>\n",
       "    </tr>\n",
       "    <tr>\n",
       "      <th>2D</th>\n",
       "      <td>0.000000</td>\n",
       "      <td>0.000000</td>\n",
       "      <td>0.000000</td>\n",
       "      <td>0.000000</td>\n",
       "      <td>1.000000</td>\n",
       "      <td>0.000000</td>\n",
       "    </tr>\n",
       "    <tr>\n",
       "      <th>3JS</th>\n",
       "      <td>0.000000</td>\n",
       "      <td>0.500000</td>\n",
       "      <td>0.000000</td>\n",
       "      <td>0.500000</td>\n",
       "      <td>0.000000</td>\n",
       "      <td>0.000000</td>\n",
       "    </tr>\n",
       "    <tr>\n",
       "      <th>99 Percent</th>\n",
       "      <td>0.043734</td>\n",
       "      <td>0.083263</td>\n",
       "      <td>0.087468</td>\n",
       "      <td>0.526493</td>\n",
       "      <td>0.248949</td>\n",
       "      <td>0.010093</td>\n",
       "    </tr>\n",
       "  </tbody>\n",
       "</table>\n",
       "</div>"
      ],
      "text/plain": [
       "age_bin         1960s     1970s     1980s     1990s     2000s  before_1960\n",
       "artist_name                                                               \n",
       "#90s Update  0.000000  0.200000  0.333333  0.400000  0.066667     0.000000\n",
       "17 Memphis   0.083333  0.000000  0.083333  0.666667  0.166667     0.000000\n",
       "2D           0.000000  0.000000  0.000000  0.000000  1.000000     0.000000\n",
       "3JS          0.000000  0.500000  0.000000  0.500000  0.000000     0.000000\n",
       "99 Percent   0.043734  0.083263  0.087468  0.526493  0.248949     0.010093"
      ]
     },
     "execution_count": 300,
     "metadata": {},
     "output_type": "execute_result"
    }
   ],
   "source": [
    "artist_age_prop.head()"
   ]
  },
  {
   "cell_type": "markdown",
   "metadata": {},
   "source": [
    "### 3.2.4 Principle Component Analysis"
   ]
  },
  {
   "cell_type": "markdown",
   "metadata": {},
   "source": [
    "<div class=\"alert alert-warning\">\n",
    "<b>ACTION: PCA features </b> \n",
    "\n",
    "<p> Write useful functions to create new user feature based on regions data. </p>\n",
    "\n",
    "<p> Are there other sensible features you could suggest? Work in your group to think about what other features might be useful and whether you can calculate them with the data you have. Justify your reasoning. </p>\n",
    "\n",
    "</div>"
   ]
  },
  {
   "cell_type": "markdown",
   "metadata": {},
   "source": [
    "As shown below, there are 515 unique region codes in the dataset. Given we only have 309 artists in the dataset, if we have over 500 region code features, the problem becomes unsolvable because there are more unknowns than observations. Therefore, we want to reduce the dimensionality of the dataset using the PCA technique."
   ]
  },
  {
   "cell_type": "markdown",
   "metadata": {},
   "source": [
    "#### 3.2.4.1 PCA for region code"
   ]
  },
  {
   "cell_type": "code",
   "execution_count": 301,
   "metadata": {},
   "outputs": [
    {
     "data": {
      "text/plain": [
       "402"
      ]
     },
     "execution_count": 301,
     "metadata": {},
     "output_type": "execute_result"
    }
   ],
   "source": [
    "len(data_cleaned['region_code'].drop_duplicates())"
   ]
  },
  {
   "cell_type": "code",
   "execution_count": 302,
   "metadata": {},
   "outputs": [],
   "source": [
    "# construct the streams count region code breakdown for artist dataset\n",
    "artist_region_stream = data_cleaned.groupby(['artist_name','region_code']).agg({'region_code':'count'})"
   ]
  },
  {
   "cell_type": "code",
   "execution_count": 303,
   "metadata": {},
   "outputs": [],
   "source": [
    "# fill those region zero stream count with 0\n",
    "artist_region_stream_unstack = artist_region_stream.unstack().fillna(0)"
   ]
  },
  {
   "cell_type": "code",
   "execution_count": 304,
   "metadata": {},
   "outputs": [],
   "source": [
    "# we need to standarize the data before supplying it to the PCA algorithm\n",
    "from sklearn.preprocessing import StandardScaler\n",
    "\n",
    "scaler = StandardScaler()\n",
    "\n",
    "artist_region_scaled = scaler.fit_transform(artist_region_stream_unstack)"
   ]
  },
  {
   "cell_type": "code",
   "execution_count": 305,
   "metadata": {},
   "outputs": [],
   "source": [
    "# Region Code PCA\n",
    "\n",
    "from sklearn import decomposition\n",
    "\n",
    "# the number of principle components returns will be 10\n",
    "pca = decomposition.PCA(n_components = 10)\n",
    "region_pca = pca.fit_transform(artist_region_scaled)"
   ]
  },
  {
   "cell_type": "code",
   "execution_count": 306,
   "metadata": {},
   "outputs": [
    {
     "name": "stdout",
     "output_type": "stream",
     "text": [
      "[0.44 0.06 0.03 0.03 0.03 0.02 0.02 0.02 0.02 0.02]\n",
      "Total variance explained: 0.671186259306413\n"
     ]
    }
   ],
   "source": [
    "print(pca.explained_variance_ratio_)\n",
    "print('Total variance explained: '+ str(np.sum(pca.explained_variance_ratio_)))"
   ]
  },
  {
   "cell_type": "markdown",
   "metadata": {},
   "source": [
    "As shown above, the first principle component already accounts for over 44% of variance from the region code features and the total variance explained by the top 10 principle components is about 67%. "
   ]
  },
  {
   "cell_type": "code",
   "execution_count": 307,
   "metadata": {},
   "outputs": [
    {
     "data": {
      "text/plain": [
       "(626, 10)"
      ]
     },
     "execution_count": 307,
     "metadata": {},
     "output_type": "execute_result"
    }
   ],
   "source": [
    "region_pca.shape"
   ]
  },
  {
   "cell_type": "markdown",
   "metadata": {},
   "source": [
    "There are only 301 artists have the region code pca features. This is because some of the artists do not have region code information in the original dataset. "
   ]
  },
  {
   "cell_type": "code",
   "execution_count": 308,
   "metadata": {},
   "outputs": [],
   "source": [
    "#generate a name list for the pricinple components\n",
    "pc_name = []\n",
    "for i in range(1,11):\n",
    "    pc_name.append('region_pc'+str(i))"
   ]
  },
  {
   "cell_type": "code",
   "execution_count": 309,
   "metadata": {},
   "outputs": [],
   "source": [
    "#create a DF for the region_pca\n",
    "region_pcaDF = pd.DataFrame(data = region_pca, columns = pc_name)\n",
    "artist_pca = pd.Series(artist_region_stream_unstack.index.values,name='artist_name')\n",
    "region_pcaDF = pd.concat([artist_pca,region_pcaDF],axis=1)"
   ]
  },
  {
   "cell_type": "markdown",
   "metadata": {},
   "source": [
    "<div class=\"alert alert-warning\">\n",
    "<b>ACTION: PCA plot </b> \n",
    "\n",
    "<p> Use a figure to show which components of PCA explain the majority of variation in the data. Accordingly, use only those components in your further analysis.</p>\n",
    "\n",
    "</div>"
   ]
  },
  {
   "cell_type": "code",
   "execution_count": 310,
   "metadata": {},
   "outputs": [
    {
     "data": {
      "image/png": "[encoded data removed]",
      "text/plain": [
       "<Figure size 432x288 with 1 Axes>"
      ]
     },
     "metadata": {
      "needs_background": "light"
     },
     "output_type": "display_data"
    }
   ],
   "source": [
    "plt.plot(np.cumsum(pca.explained_variance_ratio_))\n",
    "plt.xlabel('number of components')\n",
    "plt.ylabel('cumulative explained variance')\n",
    "plt.show()"
   ]
  },
  {
   "cell_type": "code",
   "execution_count": 311,
   "metadata": {},
   "outputs": [
    {
     "data": {
      "image/png": "[encoded data removed]",
      "text/plain": [
       "<Figure size 432x288 with 1 Axes>"
      ]
     },
     "metadata": {
      "needs_background": "light"
     },
     "output_type": "display_data"
    }
   ],
   "source": [
    "plt.bar(pc_name,pca.explained_variance_ratio_)\n",
    "plt.xticks(rotation = 90)\n",
    "plt.xlabel('principle components')\n",
    "plt.ylabel('explained variance')\n",
    "plt.show()"
   ]
  },
  {
   "cell_type": "markdown",
   "metadata": {},
   "source": [
    "We will be using all of the 10 principle components as our independent variables"
   ]
  },
  {
   "cell_type": "markdown",
   "metadata": {},
   "source": [
    "### 3.2.5 Merging features together"
   ]
  },
  {
   "cell_type": "code",
   "execution_count": 312,
   "metadata": {},
   "outputs": [],
   "source": [
    "# create a dataframe for unique artists\n",
    "unique_artist = data_cleaned[['artist_name','target']].drop_duplicates()"
   ]
  },
  {
   "cell_type": "code",
   "execution_count": 313,
   "metadata": {},
   "outputs": [],
   "source": [
    "# merging all features as well as the dependent variable together \n",
    "dfs = [unique_artist,artist_passion_score,artist_age_prop,artist_gender_prop,region_pcaDF,artist_wavg,num_playlist]\n",
    "\n",
    "df_final = reduce(lambda left,right: pd.merge(left,right,on='artist_name',how='left'), dfs)"
   ]
  },
  {
   "cell_type": "code",
   "execution_count": 314,
   "metadata": {},
   "outputs": [
    {
     "data": {
      "text/plain": [
       "Index(['artist_name', 'target', 'stream_count_artist', 'users_per_artist',\n",
       "       'passion_score', '1960s', '1970s', '1980s', '1990s', '2000s',\n",
       "       'before_1960', 'female', 'male', 'region_pc1', 'region_pc2',\n",
       "       'region_pc3', 'region_pc4', 'region_pc5', 'region_pc6', 'region_pc7',\n",
       "       'region_pc8', 'region_pc9', 'region_pc10', 'wavg_passion',\n",
       "       'num_playlist'],\n",
       "      dtype='object')"
      ]
     },
     "execution_count": 314,
     "metadata": {},
     "output_type": "execute_result"
    }
   ],
   "source": [
    "df_final.columns"
   ]
  },
  {
   "cell_type": "code",
   "execution_count": 315,
   "metadata": {},
   "outputs": [],
   "source": [
    "df_final = df_final.drop(columns=['stream_count_artist', 'users_per_artist'])\n",
    "df_final.rename(columns={'passion_score':'artist_passion_score'},inplace=True)"
   ]
  },
  {
   "cell_type": "code",
   "execution_count": 316,
   "metadata": {},
   "outputs": [
    {
     "data": {
      "text/plain": [
       "(643, 23)"
      ]
     },
     "execution_count": 316,
     "metadata": {},
     "output_type": "execute_result"
    }
   ],
   "source": [
    "df_final.shape"
   ]
  },
  {
   "cell_type": "code",
   "execution_count": 317,
   "metadata": {},
   "outputs": [],
   "source": [
    "df_final = df_final.set_index('artist_name')"
   ]
  },
  {
   "cell_type": "markdown",
   "metadata": {},
   "source": [
    "## 3.3 Preprocessing"
   ]
  },
  {
   "cell_type": "markdown",
   "metadata": {},
   "source": [
    "### 3.3.1 Missing values"
   ]
  },
  {
   "cell_type": "markdown",
   "metadata": {},
   "source": [
    "<div class=\"alert alert-warning\">\n",
    "<b>ACTION: Missing values </b> \n",
    "\n",
    "<p> Use the **`Imputer`** class to alter your final Dataframe that contains your feature vector.</p>\n",
    "\n",
    "</div>"
   ]
  },
  {
   "cell_type": "code",
   "execution_count": 318,
   "metadata": {},
   "outputs": [
    {
     "data": {
      "text/plain": [
       "target                  False\n",
       "artist_passion_score    False\n",
       "1960s                   False\n",
       "1970s                   False\n",
       "1980s                   False\n",
       "1990s                   False\n",
       "2000s                   False\n",
       "before_1960             False\n",
       "female                   True\n",
       "male                     True\n",
       "region_pc1               True\n",
       "region_pc2               True\n",
       "region_pc3               True\n",
       "region_pc4               True\n",
       "region_pc5               True\n",
       "region_pc6               True\n",
       "region_pc7               True\n",
       "region_pc8               True\n",
       "region_pc9               True\n",
       "region_pc10              True\n",
       "wavg_passion             True\n",
       "num_playlist            False\n",
       "dtype: bool"
      ]
     },
     "execution_count": 318,
     "metadata": {},
     "output_type": "execute_result"
    }
   ],
   "source": [
    "df_final.isna().any()"
   ]
  },
  {
   "cell_type": "markdown",
   "metadata": {},
   "source": [
    "As shown above, we only have missing values in the region code PCA and playlist passion score features and gender. And I decide to use the median of each of these features to fill the missing values of these features. "
   ]
  },
  {
   "cell_type": "code",
   "execution_count": 319,
   "metadata": {},
   "outputs": [],
   "source": [
    "from sklearn.impute import SimpleImputer\n",
    "\n",
    "imp = SimpleImputer(strategy='median')\n",
    "\n",
    "df_final.iloc[:,1:] = imp.fit_transform(df_final.iloc[:,1:])"
   ]
  },
  {
   "cell_type": "markdown",
   "metadata": {},
   "source": [
    "### 3.3.2 Feature Nomalisation\n",
    "\n",
    "Since we are more interested in the relative rather than absolute differences between variables. And all independent variables in the data have more relative meaning than absolute meaning, so we will be standardizing all independent variables. After the normalisation, each variable will have a mean of 0 and standard deviation of 1."
   ]
  },
  {
   "cell_type": "markdown",
   "metadata": {},
   "source": [
    "<div class=\"alert alert-warning\">\n",
    "<b>ACTION: Feature transformation </b> \n",
    "\n",
    "<p> Comment on whether transforming particular features (influence, gender breakdown, age breakdown) is useful. Calculate the transformation where necessary.</p>\n",
    "\n",
    "</div>"
   ]
  },
  {
   "cell_type": "code",
   "execution_count": 320,
   "metadata": {},
   "outputs": [],
   "source": [
    "from sklearn.preprocessing import StandardScaler\n",
    "\n",
    "scaler = StandardScaler()\n",
    "\n",
    "df_final.iloc[:,1:] = scaler.fit_transform(df_final.iloc[:,1:])"
   ]
  },
  {
   "cell_type": "markdown",
   "metadata": {},
   "source": [
    "### 3.3.3 Multi-collinearity"
   ]
  },
  {
   "cell_type": "markdown",
   "metadata": {},
   "source": [
    "<div class=\"alert alert-warning\">\n",
    "<b>ACTION: Multi-collinearity </b> \n",
    "\n",
    "<p> Check and deal with multi-collinearity in your feature set.</p>\n",
    "\n",
    "</div>"
   ]
  },
  {
   "cell_type": "code",
   "execution_count": 321,
   "metadata": {},
   "outputs": [
    {
     "data": {
      "image/png": "[encoded data removed]",
      "text/plain": [
       "<Figure size 1008x864 with 2 Axes>"
      ]
     },
     "metadata": {
      "needs_background": "light"
     },
     "output_type": "display_data"
    }
   ],
   "source": [
    "corr = df_final.corr()\n",
    "plt.figure(figsize=(14,12))\n",
    "sns.heatmap(corr, \n",
    "            xticklabels=corr.columns.values,\n",
    "            yticklabels=corr.columns.values)\n",
    "plt.show()"
   ]
  },
  {
   "cell_type": "markdown",
   "metadata": {},
   "source": [
    "As shown in the above, female and male have very high collinearity because essentially they are representing the same information and therefore, we need drop one of them. Also, the age bins variable have high collinearity as well because they are percentage of users and adding up to 1. Therefore, they are perfectly collinear and we need to drop one of the age bin variable. "
   ]
  },
  {
   "cell_type": "code",
   "execution_count": 322,
   "metadata": {},
   "outputs": [],
   "source": [
    "# Remove one of highly correlated varibles (test removing other as well)\n",
    "df_final = df_final.drop(columns=['male', 'before_1960'])"
   ]
  },
  {
   "cell_type": "code",
   "execution_count": 323,
   "metadata": {},
   "outputs": [
    {
     "data": {
      "text/plain": [
       "Index(['target', 'artist_passion_score', '1960s', '1970s', '1980s', '1990s',\n",
       "       '2000s', 'female', 'region_pc1', 'region_pc2', 'region_pc3',\n",
       "       'region_pc4', 'region_pc5', 'region_pc6', 'region_pc7', 'region_pc8',\n",
       "       'region_pc9', 'region_pc10', 'wavg_passion', 'num_playlist'],\n",
       "      dtype='object')"
      ]
     },
     "execution_count": 323,
     "metadata": {},
     "output_type": "execute_result"
    }
   ],
   "source": [
    "df_final.columns"
   ]
  },
  {
   "cell_type": "markdown",
   "metadata": {},
   "source": [
    "# 4.\tEvaluate algorithms \n",
    "\n",
    "*\tSplit data into training and validation (hold-out) set\n",
    "*\tUse cross-validation to fit different models to training set\n",
    "*\tSelect model with the highest cross-validation score as model of choice\n",
    "*\tTune hyper parameters of chosen model.\n",
    "*\tTest the model on hold-out set\n"
   ]
  },
  {
   "cell_type": "markdown",
   "metadata": {},
   "source": [
    "<div class=\"alert alert-warning\">\n",
    "<b>ACTION: Spot-check algorithms </b> \n",
    "\n",
    "<p> Try a mixture of algorithm representations (e.g. instances and trees). </p>\n",
    "\n",
    "<p> Try a mixture of learning algorithms (e.g. different algorithms for learning the same type of representation).<p>\n",
    "\n",
    "<p> Try a mixture of modeling types (e.g. linear and nonlinear functions or parametric and nonparametric).</p>\n",
    "\n",
    "<p> Divide this work up among the different members of your team and then compare and comment on the performance of various approaches.</p>\n",
    "\n",
    "</div>"
   ]
  },
  {
   "cell_type": "code",
   "execution_count": 324,
   "metadata": {},
   "outputs": [],
   "source": [
    "from sklearn.model_selection import cross_val_score\n",
    "from sklearn.model_selection import train_test_split\n",
    "from sklearn.metrics import confusion_matrix\n",
    "from sklearn.metrics import auc\n",
    "from sklearn.metrics import roc_curve\n",
    "from sklearn.metrics import roc_auc_score\n",
    "from sklearn.model_selection import cross_val_predict\n",
    "from sklearn.metrics import accuracy_score\n",
    "from sklearn.metrics import f1_score"
   ]
  },
  {
   "cell_type": "code",
   "execution_count": 421,
   "metadata": {},
   "outputs": [
    {
     "data": {
      "text/plain": [
       "65"
      ]
     },
     "execution_count": 421,
     "metadata": {},
     "output_type": "execute_result"
    }
   ],
   "source": [
    "np.sum(df_final['target'] == 1)"
   ]
  },
  {
   "cell_type": "code",
   "execution_count": 326,
   "metadata": {
    "scrolled": true
   },
   "outputs": [
    {
     "data": {
      "text/plain": [
       "(643, 20)"
      ]
     },
     "execution_count": 326,
     "metadata": {},
     "output_type": "execute_result"
    }
   ],
   "source": [
    "df_final.shape"
   ]
  },
  {
   "cell_type": "markdown",
   "metadata": {},
   "source": [
    "There are 309 artists in the dataset and 30 of them are labeled as successful."
   ]
  },
  {
   "cell_type": "markdown",
   "metadata": {},
   "source": [
    "## 4.1 Splitting training and testing set"
   ]
  },
  {
   "cell_type": "markdown",
   "metadata": {},
   "source": [
    "We can split the dataset into training and testing set using stratified sampling rather than random sampling. The advantage of stratified sampling is to ensure each set has the same proportion of successful artists. And 30% of data are split into testing set and 70% are in the training set. "
   ]
  },
  {
   "cell_type": "code",
   "execution_count": 327,
   "metadata": {},
   "outputs": [],
   "source": [
    "# Split into train and validation set with the stratified sampling\n",
    "X_train, X_test, y_train, y_test = train_test_split(df_final.iloc[:,1:], df_final['target'], \n",
    "                                                    test_size=0.3,stratify=df_final['target'],random_state = 32)"
   ]
  },
  {
   "cell_type": "code",
   "execution_count": 422,
   "metadata": {},
   "outputs": [
    {
     "data": {
      "text/plain": [
       "(450, 19)"
      ]
     },
     "execution_count": 422,
     "metadata": {},
     "output_type": "execute_result"
    }
   ],
   "source": [
    "X_train.shape"
   ]
  },
  {
   "cell_type": "code",
   "execution_count": 423,
   "metadata": {},
   "outputs": [
    {
     "data": {
      "text/plain": [
       "(193, 19)"
      ]
     },
     "execution_count": 423,
     "metadata": {},
     "output_type": "execute_result"
    }
   ],
   "source": [
    "X_test.shape"
   ]
  },
  {
   "cell_type": "code",
   "execution_count": 424,
   "metadata": {},
   "outputs": [
    {
     "data": {
      "text/plain": [
       "45"
      ]
     },
     "execution_count": 424,
     "metadata": {},
     "output_type": "execute_result"
    }
   ],
   "source": [
    "np.sum(y_train == 1)"
   ]
  },
  {
   "cell_type": "code",
   "execution_count": 425,
   "metadata": {},
   "outputs": [
    {
     "data": {
      "text/plain": [
       "20"
      ]
     },
     "execution_count": 425,
     "metadata": {},
     "output_type": "execute_result"
    }
   ],
   "source": [
    "np.sum(y_test == 1)"
   ]
  },
  {
   "cell_type": "markdown",
   "metadata": {},
   "source": [
    "As result, there are 450 observations in the training set with 45 successful artists and there are 193 observations in the testing set with 20 successful artist."
   ]
  },
  {
   "cell_type": "markdown",
   "metadata": {},
   "source": [
    "## 4.2 Trying different classifiers"
   ]
  },
  {
   "cell_type": "markdown",
   "metadata": {},
   "source": [
    "Different classifers are imported and most of them simply use the default hyperparameters. Noted that some ensemble models such as random forest, AdaBoost and GradientBoosting have also been used with default setting. "
   ]
  },
  {
   "cell_type": "code",
   "execution_count": 332,
   "metadata": {},
   "outputs": [],
   "source": [
    "from sklearn.tree import DecisionTreeClassifier\n",
    "from sklearn.svm import SVC\n",
    "from sklearn.neural_network import MLPClassifier\n",
    "from sklearn.linear_model import LogisticRegression\n",
    "from sklearn.neighbors import KNeighborsClassifier\n",
    "from sklearn.gaussian_process import GaussianProcessClassifier\n",
    "from sklearn.ensemble import RandomForestClassifier\n",
    "from sklearn.ensemble import AdaBoostClassifier\n",
    "from sklearn.ensemble import GradientBoostingClassifier\n",
    "\n",
    "classifiers = [\n",
    "    DecisionTreeClassifier(random_state=42,max_depth=5),\n",
    "    SVC(kernel=\"linear\", C=0.025,random_state=42,probability=True),\n",
    "    SVC(kernel=\"rbf\",random_state=42,probability=True),\n",
    "    MLPClassifier(hidden_layer_sizes=(100,10),random_state=42,max_iter = 2000),\n",
    "    LogisticRegression(random_state=42),\n",
    "    KNeighborsClassifier(3),\n",
    "    GaussianProcessClassifier(random_state=42),\n",
    "    RandomForestClassifier(n_estimators=100,random_state=42),\n",
    "    AdaBoostClassifier(random_state=42),\n",
    "    GradientBoostingClassifier(n_estimators=100,random_state=42)\n",
    "]\n",
    "\n",
    "clf_names = ['dt','lsvc','svc','nn','log','knn','gp','rf','adb','gbc']"
   ]
  },
  {
   "cell_type": "markdown",
   "metadata": {},
   "source": [
    "<div class=\"alert alert-warning\">\n",
    "<b>ACTION: Class balance </b> \n",
    "\n",
    "<p> Calculate and comment on class balance.</p>\n",
    "\n",
    "</div>"
   ]
  },
  {
   "cell_type": "markdown",
   "metadata": {},
   "source": [
    "Since we only have a very small number of successful artists in the training set, we need to resample the training set to balance the class. Noted that the resample methods should not be used before splitting into training and testing set since this might result in same observations in both the training and testing. For a similar reason, in cross validation, we should only use resampling technique after splitting the training set into training and validation set."
   ]
  },
  {
   "cell_type": "markdown",
   "metadata": {},
   "source": [
    "We can use over-sampling or under-sampling as our resampling technique. For over-sampling, more 1's will be created while for under-sampling, some of the 0's will be dropped randomly. In this project, we will be using a ratio of 60:40 between 0's and 1's. And these two resampling techniques will be both in cross validation to see which can result in better performance."
   ]
  },
  {
   "cell_type": "markdown",
   "metadata": {},
   "source": [
    "The drawback of over-sampling is creating duplicate observations, which might results in over-fitting to the over-sampled class whereas the drawback of under-sampling is the lost of information. "
   ]
  },
  {
   "cell_type": "code",
   "execution_count": 333,
   "metadata": {},
   "outputs": [],
   "source": [
    "from imblearn.over_sampling import RandomOverSampler\n",
    "ros = RandomOverSampler(sampling_strategy=0.67,random_state=42)"
   ]
  },
  {
   "cell_type": "code",
   "execution_count": 334,
   "metadata": {},
   "outputs": [],
   "source": [
    "from imblearn.under_sampling import RandomUnderSampler\n",
    "rus = RandomUnderSampler(sampling_strategy=0.67, random_state=42)"
   ]
  },
  {
   "cell_type": "markdown",
   "metadata": {},
   "source": [
    "We are using stratified K folds cross validation to check the performance of different classifiers. The advantage of using stratified K folds is that, since we only have a very small number of 1's in the training set, it make sure each fold has the same proportion of 1's. And we are using three folds in this project."
   ]
  },
  {
   "cell_type": "code",
   "execution_count": 335,
   "metadata": {},
   "outputs": [],
   "source": [
    "from sklearn.model_selection import StratifiedKFold\n",
    "\n",
    "skf = StratifiedKFold(n_splits=3)"
   ]
  },
  {
   "cell_type": "markdown",
   "metadata": {},
   "source": [
    "The following block of code experiment different classifiers using stratified K-fold cross validation and their accuracy score, AUC of ROC, recall score and f1 score are recorded for each classifier. "
   ]
  },
  {
   "cell_type": "code",
   "execution_count": 379,
   "metadata": {},
   "outputs": [
    {
     "name": "stdout",
     "output_type": "stream",
     "text": [
      "dt\n",
      "lsvc\n",
      "svc\n",
      "nn\n",
      "log\n",
      "knn\n",
      "gp\n",
      "rf\n",
      "adb\n",
      "gbc\n"
     ]
    }
   ],
   "source": [
    "score_mean = {}\n",
    "auroc = {}\n",
    "recall = {}\n",
    "f1_scores = {}\n",
    "\n",
    "for clf,name in zip(classifiers,clf_names):\n",
    "    \n",
    "    scores = []\n",
    "    aucs = []\n",
    "    rts = []\n",
    "    f1s = []\n",
    "    \n",
    "    for train_index, test_index in skf.split(np.array(X_train), np.array(y_train)):\n",
    "\n",
    "        X_train_cv, X_val = np.array(X_train)[train_index], np.array(X_train)[test_index]\n",
    "        y_train_cv, y_val = np.array(y_train)[train_index], np.array(y_train)[test_index]\n",
    "        \n",
    "        # enlarge the number of 1's by four times\n",
    "        #X_train_res, y_train_res = ros.fit_resample(X_train_cv, y_train_cv)\n",
    "        # then make sure the ratio of 0's and 1's is 60:40\n",
    "        X_train_dres, y_train_dres = rus.fit_resample(X_train_cv, y_train_cv)\n",
    "        \n",
    "        clf.fit(X_train_dres,y_train_dres)\n",
    "        \n",
    "        y_pred = clf.predict(X_val)\n",
    "        y_pred_proba = clf.predict_proba(X_val)[:, 1]\n",
    "        \n",
    "        scores.append(accuracy_score(y_val, y_pred))\n",
    "        \n",
    "        tn, fp, fn, tp = confusion_matrix(y_val,y_pred).ravel()\n",
    "        \n",
    "        auc = roc_auc_score(y_val, y_pred_proba)\n",
    "        aucs.append(auc)\n",
    "        \n",
    "        rts.append(tp/(fn+tp))\n",
    "        \n",
    "        f1s.append(f1_score(y_val,y_pred))\n",
    "                        \n",
    "                \n",
    "    \n",
    "    print(name)\n",
    "    score_mean[name] = np.mean(scores)\n",
    "    auroc[name] = np.mean(aucs)\n",
    "    recall[name] = np.mean(rts)\n",
    "    f1_scores[name] = np.mean(f1s)"
   ]
  },
  {
   "cell_type": "code",
   "execution_count": 380,
   "metadata": {},
   "outputs": [
    {
     "data": {
      "text/plain": [
       "{'dt': 0.7222222222222223,\n",
       " 'lsvc': 0.9044444444444445,\n",
       " 'svc': 0.8822222222222221,\n",
       " 'nn': 0.7688888888888888,\n",
       " 'log': 0.831111111111111,\n",
       " 'knn': 0.6866666666666666,\n",
       " 'gp': 0.7822222222222223,\n",
       " 'rf': 0.8644444444444445,\n",
       " 'adb': 0.7999999999999999,\n",
       " 'gbc': 0.791111111111111}"
      ]
     },
     "execution_count": 380,
     "metadata": {},
     "output_type": "execute_result"
    }
   ],
   "source": [
    "# accuracy score\n",
    "score_mean"
   ]
  },
  {
   "cell_type": "code",
   "execution_count": 381,
   "metadata": {},
   "outputs": [
    {
     "data": {
      "text/plain": [
       "{'dt': 0.7647736625514403,\n",
       " 'lsvc': 0.8483127572016461,\n",
       " 'svc': 0.8404938271604938,\n",
       " 'nn': 0.7876543209876542,\n",
       " 'log': 0.8327572016460906,\n",
       " 'knn': 0.7767901234567901,\n",
       " 'gp': 0.7768724279835392,\n",
       " 'rf': 0.8693827160493827,\n",
       " 'adb': 0.806090534979424,\n",
       " 'gbc': 0.8441975308641975}"
      ]
     },
     "execution_count": 381,
     "metadata": {},
     "output_type": "execute_result"
    }
   ],
   "source": [
    "auroc"
   ]
  },
  {
   "cell_type": "code",
   "execution_count": 382,
   "metadata": {},
   "outputs": [
    {
     "data": {
      "text/plain": [
       "{'dt': 0.7555555555555555,\n",
       " 'lsvc': 0.3333333333333333,\n",
       " 'svc': 0.5111111111111111,\n",
       " 'nn': 0.5777777777777778,\n",
       " 'log': 0.6666666666666666,\n",
       " 'knn': 0.7555555555555555,\n",
       " 'gp': 0.7333333333333334,\n",
       " 'rf': 0.7333333333333334,\n",
       " 'adb': 0.6222222222222222,\n",
       " 'gbc': 0.6666666666666666}"
      ]
     },
     "execution_count": 382,
     "metadata": {},
     "output_type": "execute_result"
    }
   ],
   "source": [
    "recall"
   ]
  },
  {
   "cell_type": "code",
   "execution_count": 383,
   "metadata": {},
   "outputs": [
    {
     "data": {
      "text/plain": [
       "{'dt': 0.3535762483130904,\n",
       " 'lsvc': 0.40867707172054996,\n",
       " 'svc': 0.4659304334760724,\n",
       " 'nn': 0.3271086212262683,\n",
       " 'log': 0.44354034099727296,\n",
       " 'knn': 0.32673551348250146,\n",
       " 'gp': 0.3980152401205033,\n",
       " 'rf': 0.5219789925672278,\n",
       " 'adb': 0.3870822041553748,\n",
       " 'gbc': 0.3893947482142403}"
      ]
     },
     "execution_count": 383,
     "metadata": {},
     "output_type": "execute_result"
    }
   ],
   "source": [
    "f1_scores"
   ]
  },
  {
   "cell_type": "markdown",
   "metadata": {},
   "source": [
    "According to the cross validation results shown above, the random forest classifer seems to be the best one among others. Even though the SVM (lsvc and svc) have a higher accuracy score, this problem mainly focus on predicting successful artists rather than predicting unsuccessful artists, we are more interested in measurements such as AUC, recall and precision rather than accuracy score. In terms of AUC, recall and F1 score (a combination of recall and precision), random forest classifer performs better than other classifiers. Also, the performance of under-sampling has been better than over-sampling, so under-sampling is used."
   ]
  },
  {
   "cell_type": "markdown",
   "metadata": {},
   "source": [
    "The random forest model has achieved an accuracy score of 0.86, an AUC of 0.87, a recall score of 0.73 and a F1 score of 0.52. "
   ]
  },
  {
   "cell_type": "markdown",
   "metadata": {},
   "source": [
    "# 5. Improve Results "
   ]
  },
  {
   "cell_type": "markdown",
   "metadata": {},
   "source": [
    "## 5.1 Hyper parameter tuning"
   ]
  },
  {
   "cell_type": "markdown",
   "metadata": {},
   "source": [
    "<div class=\"alert alert-warning\">\n",
    "<b>ACTION:  Hyper Parameter Tuning  </b> \n",
    "\n",
    "<p> Perform hyperparameter turing and demonstrate improved performance. Comment on any specific behaviour of your chosen classifier and set out the final structure and parameter settings.</p>\n",
    "\n",
    "</div>"
   ]
  },
  {
   "cell_type": "markdown",
   "metadata": {},
   "source": [
    "The best model (random forest) is used to do hyper parameters tuning in order to find out the optimal sets of hyper-parameters. The hyper parameters to search includes the number of estimators, the criterion for splitting and the max_depth of the trees. And we are searching for the set of hyper parameters with the highest F1 score (a combination of recall and precision), which is more suitable than accuracy in this project. "
   ]
  },
  {
   "cell_type": "code",
   "execution_count": 397,
   "metadata": {},
   "outputs": [
    {
     "name": "stderr",
     "output_type": "stream",
     "text": [
      "D:\\Programs\\Anaconda3\\lib\\site-packages\\sklearn\\model_selection\\_search.py:841: DeprecationWarning: The default of the `iid` parameter will change from True to False in version 0.22 and will be removed in 0.24. This will change numeric results when test-set sizes are unequal.\n",
      "  DeprecationWarning)\n"
     ]
    },
    {
     "data": {
      "text/plain": [
       "GridSearchCV(cv=5, error_score='raise-deprecating',\n",
       "       estimator=RandomForestClassifier(bootstrap=True, class_weight=None, criterion='gini',\n",
       "            max_depth=None, max_features='auto', max_leaf_nodes=None,\n",
       "            min_impurity_decrease=0.0, min_impurity_split=None,\n",
       "            min_samples_leaf=1, min_samples_split=2,\n",
       "            min_weight_fraction_leaf=0.0, n_estimators=100, n_jobs=None,\n",
       "            oob_score=False, random_state=42, verbose=0, warm_start=False),\n",
       "       fit_params=None, iid='warn', n_jobs=None,\n",
       "       param_grid={'n_estimators': [10, 25, 50, 100, 300, 500, 700, 900], 'criterion': ('gini', 'entropy'), 'max_depth': [2, 5, None]},\n",
       "       pre_dispatch='2*n_jobs', refit=True, return_train_score='warn',\n",
       "       scoring='precision', verbose=0)"
      ]
     },
     "execution_count": 397,
     "metadata": {},
     "output_type": "execute_result"
    }
   ],
   "source": [
    "from sklearn.model_selection import GridSearchCV\n",
    "\n",
    "RF = RandomForestClassifier(n_estimators=100,random_state=42)\n",
    "\n",
    "\n",
    "# GRIDSEARCH\n",
    "RF_param_grid = {'n_estimators':[10,25,50,100,300,500,700,900],\n",
    "                 'criterion':('gini','entropy'),'max_depth':[2,5,None]}\n",
    "\n",
    "Grid = GridSearchCV(RF, RF_param_grid, cv=5, scoring='precision')\n",
    "\n",
    "X_train_dres, y_train_dres = RandomUnderSampler(sampling_strategy=0.67, random_state=42).fit_resample(X_train, y_train)\n",
    "#X_train_res, y_train_res = RandomOverSampler(sampling_strategy=0.67, random_state=42).fit_resample(X_train, y_train)\n",
    "\n",
    "Grid.fit(X_train_dres, y_train_dres)\n"
   ]
  },
  {
   "cell_type": "code",
   "execution_count": 385,
   "metadata": {},
   "outputs": [
    {
     "data": {
      "text/plain": [
       "{'criterion': 'entropy', 'max_depth': None, 'n_estimators': 300}"
      ]
     },
     "execution_count": 385,
     "metadata": {},
     "output_type": "execute_result"
    }
   ],
   "source": [
    "Grid.best_params_"
   ]
  },
  {
   "cell_type": "code",
   "execution_count": 386,
   "metadata": {},
   "outputs": [
    {
     "data": {
      "text/plain": [
       "0.7584123122933384"
      ]
     },
     "execution_count": 386,
     "metadata": {},
     "output_type": "execute_result"
    }
   ],
   "source": [
    "Grid.best_score_"
   ]
  },
  {
   "cell_type": "markdown",
   "metadata": {},
   "source": [
    "It turns out that the set of parameters that achieves the highest F1 score of 0.76 is shown above. "
   ]
  },
  {
   "cell_type": "markdown",
   "metadata": {},
   "source": [
    "## 5.2 Ensemble modelling"
   ]
  },
  {
   "cell_type": "markdown",
   "metadata": {},
   "source": [
    "<div class=\"alert alert-warning\">\n",
    "<b>ACTION:  Ensemble modeling  </b> \n",
    "\n",
    "<p> Build an ensemble model and demonstrate improved performance. Comment on any specific behaviour of your chosen classifier and set out the final structure and parameter settings.</p>\n",
    "\n",
    "<p> Divide this work up among the different members of your team and then compare and comment on the performance of various approaches.</p>\n",
    "\n",
    "</div>"
   ]
  },
  {
   "cell_type": "markdown",
   "metadata": {},
   "source": [
    "Since a couple of ensemble classifiers have been tried above, we will be a Voting Classifier by using the best classifiers as base estimator to try to improve the result, which are the random forest, Support Vector Classifer with linear kernel and AdaBoost."
   ]
  },
  {
   "cell_type": "code",
   "execution_count": 426,
   "metadata": {},
   "outputs": [
    {
     "data": {
      "text/plain": [
       "0.7489592760180995"
      ]
     },
     "execution_count": 426,
     "metadata": {},
     "output_type": "execute_result"
    }
   ],
   "source": [
    "from sklearn.ensemble import VotingClassifier\n",
    "\n",
    "RF = RandomForestClassifier(criterion='entropy', max_depth = None, n_estimators = 300, random_state=42)\n",
    "lsvc = SVC(kernel=\"linear\", random_state=42,probability=True)\n",
    "Ada = AdaBoostClassifier(random_state=42)\n",
    "\n",
    "clfs = [('rf', RF), ('ada', Ada), ('lsvc', lsvc)]\n",
    "\n",
    "vclf = VotingClassifier(estimators=clfs, voting='soft')\n",
    "\n",
    "X_train_dres, y_train_dres = RandomUnderSampler(sampling_strategy=0.67, random_state=42).fit_resample(X_train, y_train)\n",
    "#X_train_res, y_train_res = RandomOverSampler(sampling_strategy=0.67, random_state=42).fit_resample(X_train, y_train)\n",
    "\n",
    "vclf_scores = cross_val_score(vclf, X_train_dres, y_train_dres, cv=5, scoring='f1')\n",
    "\n",
    "np.mean(vclf_scores)"
   ]
  },
  {
   "cell_type": "markdown",
   "metadata": {},
   "source": [
    "As shown above, the voting classifier achieves a lower F1 score than the hyper-parameter tuned random forest. Therefore, the random forest will be chosen as the final model for this project."
   ]
  },
  {
   "cell_type": "markdown",
   "metadata": {},
   "source": [
    "# 6. Present Results"
   ]
  },
  {
   "cell_type": "markdown",
   "metadata": {},
   "source": [
    "## 6.1 Confusion matrix"
   ]
  },
  {
   "cell_type": "markdown",
   "metadata": {},
   "source": [
    "<div class=\"alert alert-warning\">\n",
    "<b>ACTION:  Confusion matrix  </b> \n",
    "\n",
    "<p> Comment on the performance of your final algorithm. Repeat analysis from earlier in the Notebook if necessary. </p>\n",
    "\n",
    "<p> Explain confusion matrix results, calculate accuracy and precision etc. </p>\n",
    "\n",
    "</div>"
   ]
  },
  {
   "cell_type": "markdown",
   "metadata": {},
   "source": [
    "By applying the random forest model on the hold-out testing set, we can see the generalizability of the classifier and how well it performs on unseen data."
   ]
  },
  {
   "cell_type": "code",
   "execution_count": 407,
   "metadata": {},
   "outputs": [],
   "source": [
    "final_model = RandomForestClassifier(criterion='entropy', max_depth = None, n_estimators = 300, random_state=42)"
   ]
  },
  {
   "cell_type": "code",
   "execution_count": 408,
   "metadata": {},
   "outputs": [],
   "source": [
    "# Confusion Matrix\n",
    "from sklearn.metrics import confusion_matrix\n",
    "\n",
    "X_train_dres, y_train_dres = RandomUnderSampler(sampling_strategy=0.67, random_state=42).fit_resample(X_train, y_train)\n",
    "#X_train_res, y_train_res = RandomOverSampler(sampling_strategy=0.67, random_state=42).fit_resample(X_train, y_train)\n",
    "\n",
    "final_model.fit(X_train_dres,y_train_dres)\n",
    "y_pred = final_model.predict(X_test)\n",
    "y_pred_proba = final_model.predict_proba(X_test)[:, 1]"
   ]
  },
  {
   "cell_type": "code",
   "execution_count": 409,
   "metadata": {},
   "outputs": [
    {
     "data": {
      "text/plain": [
       "0.8860103626943006"
      ]
     },
     "execution_count": 409,
     "metadata": {},
     "output_type": "execute_result"
    }
   ],
   "source": [
    "from sklearn.metrics import accuracy_score\n",
    "\n",
    "accuracy_score(y_test, y_pred)"
   ]
  },
  {
   "cell_type": "markdown",
   "metadata": {},
   "source": [
    "It achieves an accuracy score of 88.6%, but more importantly we need to look at the confusion matrix."
   ]
  },
  {
   "cell_type": "code",
   "execution_count": 410,
   "metadata": {},
   "outputs": [
    {
     "name": "stdout",
     "output_type": "stream",
     "text": [
      "Confusion matrix, without normalization\n",
      "[[159  14]\n",
      " [  8  12]]\n",
      "Normalized confusion matrix\n",
      "[[0.92 0.08]\n",
      " [0.4  0.6 ]]\n"
     ]
    },
    {
     "data": {
      "image/png": "[encoded data removed]",
      "text/plain": [
       "<Figure size 432x288 with 2 Axes>"
      ]
     },
     "metadata": {
      "needs_background": "light"
     },
     "output_type": "display_data"
    },
    {
     "data": {
      "image/png": "[encoded data removed]",
      "text/plain": [
       "<Figure size 432x288 with 2 Axes>"
      ]
     },
     "metadata": {
      "needs_background": "light"
     },
     "output_type": "display_data"
    }
   ],
   "source": [
    "# Plot Confusion Matrix\n",
    "import itertools\n",
    "\n",
    "def plot_confusion_matrix(cm, classes,\n",
    "                          normalize=False,\n",
    "                          title='Confusion matrix',\n",
    "                          cmap=plt.cm.Reds):\n",
    "    if normalize:\n",
    "        cm = cm.astype('float') / cm.sum(axis=1)[:, np.newaxis]\n",
    "        print(\"Normalized confusion matrix\")\n",
    "    else:\n",
    "        print('Confusion matrix, without normalization')\n",
    "\n",
    "    print(cm)\n",
    "\n",
    "    plt.imshow(cm, interpolation='nearest', cmap=cmap)\n",
    "    plt.title(title)\n",
    "    plt.colorbar()\n",
    "    tick_marks = np.arange(len(classes))\n",
    "    plt.xticks(tick_marks, classes)\n",
    "    plt.yticks(tick_marks, classes)\n",
    "\n",
    "    fmt = '.2f' if normalize else 'd'\n",
    "    thresh = cm.max() / 2.\n",
    "    for i, j in itertools.product(range(cm.shape[0]), range(cm.shape[1])):\n",
    "        plt.text(j, i, format(cm[i, j], fmt),\n",
    "                 horizontalalignment=\"center\",\n",
    "                 color=\"white\" if cm[i, j] > thresh else \"black\")\n",
    "\n",
    "    plt.ylabel('True label')\n",
    "    plt.xlabel('Predicted label')\n",
    "    plt.tight_layout()\n",
    "\n",
    "\n",
    "# Compute confusion matrix\n",
    "cnf_matrix = confusion_matrix(y_test, y_pred)\n",
    "np.set_printoptions(precision=2)\n",
    "\n",
    "# Plot non-normalized confusion matrix\n",
    "plt.figure()\n",
    "plot_confusion_matrix(cnf_matrix, classes=[0,1],title='Confusion matrix, without normalization')\n",
    "\n",
    "# Plot normalized confusion matrix\n",
    "plt.figure()\n",
    "plot_confusion_matrix(cnf_matrix, classes=[0,1], normalize=True,title='Normalized confusion matrix')\n",
    "\n",
    "plt.show()"
   ]
  },
  {
   "cell_type": "code",
   "execution_count": 411,
   "metadata": {},
   "outputs": [
    {
     "data": {
      "text/plain": [
       "0.5217391304347826"
      ]
     },
     "execution_count": 411,
     "metadata": {},
     "output_type": "execute_result"
    }
   ],
   "source": [
    "f1_score(y_test, y_pred)"
   ]
  },
  {
   "cell_type": "markdown",
   "metadata": {},
   "source": [
    "The confusion matrix above shows that within 20 true successful artists, this model can correctly predict 12 of them (60% recall). And for 26 artists that this model predict to be successful, 12 of them are actually successful (46% precision)."
   ]
  },
  {
   "cell_type": "markdown",
   "metadata": {},
   "source": [
    "## 6.2 ROC Curve \n"
   ]
  },
  {
   "cell_type": "markdown",
   "metadata": {},
   "source": [
    "<div class=\"alert alert-warning\">\n",
    "<b>ACTION:  ROC Curve </b> \n",
    "\n",
    "<p> Comment on the performance of your final algorithm. Repeat analysis from earlier in the Notebook if necessary. </p>\n",
    "\n",
    "<p> Explain any observations about the ROC results. </p>\n",
    "\n",
    "</div>"
   ]
  },
  {
   "cell_type": "code",
   "execution_count": 412,
   "metadata": {},
   "outputs": [],
   "source": [
    "# # ROC curve\n",
    "\n",
    "# Plot classifier ROC\n",
    "from sklearn.metrics import roc_curve\n",
    "\n",
    "fpr, tpr, thresholds = roc_curve(y_test, y_pred_proba)"
   ]
  },
  {
   "cell_type": "code",
   "execution_count": 413,
   "metadata": {},
   "outputs": [],
   "source": [
    "from sklearn.metrics import auc\n",
    "\n",
    "auc = auc(fpr, tpr)"
   ]
  },
  {
   "cell_type": "code",
   "execution_count": 414,
   "metadata": {},
   "outputs": [],
   "source": [
    "from sklearn.metrics import roc_auc_score\n",
    "\n",
    "roc_auc = roc_auc_score(y_test, y_pred_proba)"
   ]
  },
  {
   "cell_type": "code",
   "execution_count": 415,
   "metadata": {},
   "outputs": [
    {
     "data": {
      "image/png": "[encoded data removed]",
      "text/plain": [
       "<Figure size 504x432 with 1 Axes>"
      ]
     },
     "metadata": {
      "needs_background": "light"
     },
     "output_type": "display_data"
    }
   ],
   "source": [
    "#plt.figure(1)\n",
    "plt.figure(figsize=(7,6))\n",
    "plt.plot([0, 1], [0, 1], 'k--')\n",
    "plt.plot(fpr, tpr, label='Voting Classifier (area = {:.3f})'.format(auc))\n",
    "plt.xlabel('False positive rate')\n",
    "plt.ylabel('True positive rate')\n",
    "plt.title('ROC curve')\n",
    "plt.legend(loc='best')\n",
    "plt.show()"
   ]
  },
  {
   "cell_type": "markdown",
   "metadata": {},
   "source": [
    "This model achieve a AUC of 0.89 on the test set."
   ]
  },
  {
   "cell_type": "markdown",
   "metadata": {},
   "source": [
    "## 6.3 Feature importance"
   ]
  },
  {
   "cell_type": "markdown",
   "metadata": {},
   "source": [
    "<div class=\"alert alert-warning\">\n",
    "<b>ACTION:  Feature importance</b> \n",
    "\n",
    "<p> Where possible, comment on the feature selection and performance of your final algorithm. Repeat analysis from earlier in the Notebook if necessary. </p>\n",
    "\n",
    "<p> Explain any observations about the sensitivity of your final analysis. </p>\n",
    "\n",
    "</div>"
   ]
  },
  {
   "cell_type": "markdown",
   "metadata": {},
   "source": [
    "The feature importance of the random forest model is shown below"
   ]
  },
  {
   "cell_type": "code",
   "execution_count": 427,
   "metadata": {},
   "outputs": [],
   "source": [
    "# Feature importance analysis \n",
    "fea_impor = final_model.feature_importances_"
   ]
  },
  {
   "cell_type": "code",
   "execution_count": 428,
   "metadata": {},
   "outputs": [
    {
     "data": {
      "text/html": [
       "<div>\n",
       "<style scoped>\n",
       "    .dataframe tbody tr th:only-of-type {\n",
       "        vertical-align: middle;\n",
       "    }\n",
       "\n",
       "    .dataframe tbody tr th {\n",
       "        vertical-align: top;\n",
       "    }\n",
       "\n",
       "    .dataframe thead th {\n",
       "        text-align: right;\n",
       "    }\n",
       "</style>\n",
       "<table border=\"1\" class=\"dataframe\">\n",
       "  <thead>\n",
       "    <tr style=\"text-align: right;\">\n",
       "      <th></th>\n",
       "      <th>Feature Importance</th>\n",
       "    </tr>\n",
       "  </thead>\n",
       "  <tbody>\n",
       "    <tr>\n",
       "      <th>artist_passion_score</th>\n",
       "      <td>0.026252</td>\n",
       "    </tr>\n",
       "    <tr>\n",
       "      <th>1960s</th>\n",
       "      <td>0.044496</td>\n",
       "    </tr>\n",
       "    <tr>\n",
       "      <th>1970s</th>\n",
       "      <td>0.049806</td>\n",
       "    </tr>\n",
       "    <tr>\n",
       "      <th>1980s</th>\n",
       "      <td>0.036689</td>\n",
       "    </tr>\n",
       "    <tr>\n",
       "      <th>1990s</th>\n",
       "      <td>0.100814</td>\n",
       "    </tr>\n",
       "    <tr>\n",
       "      <th>2000s</th>\n",
       "      <td>0.061193</td>\n",
       "    </tr>\n",
       "    <tr>\n",
       "      <th>female</th>\n",
       "      <td>0.039552</td>\n",
       "    </tr>\n",
       "    <tr>\n",
       "      <th>region_pc1</th>\n",
       "      <td>0.084468</td>\n",
       "    </tr>\n",
       "    <tr>\n",
       "      <th>region_pc2</th>\n",
       "      <td>0.120773</td>\n",
       "    </tr>\n",
       "    <tr>\n",
       "      <th>region_pc3</th>\n",
       "      <td>0.036350</td>\n",
       "    </tr>\n",
       "    <tr>\n",
       "      <th>region_pc4</th>\n",
       "      <td>0.036991</td>\n",
       "    </tr>\n",
       "    <tr>\n",
       "      <th>region_pc5</th>\n",
       "      <td>0.029733</td>\n",
       "    </tr>\n",
       "    <tr>\n",
       "      <th>region_pc6</th>\n",
       "      <td>0.053083</td>\n",
       "    </tr>\n",
       "    <tr>\n",
       "      <th>region_pc7</th>\n",
       "      <td>0.053752</td>\n",
       "    </tr>\n",
       "    <tr>\n",
       "      <th>region_pc8</th>\n",
       "      <td>0.035974</td>\n",
       "    </tr>\n",
       "    <tr>\n",
       "      <th>region_pc9</th>\n",
       "      <td>0.032849</td>\n",
       "    </tr>\n",
       "    <tr>\n",
       "      <th>region_pc10</th>\n",
       "      <td>0.031073</td>\n",
       "    </tr>\n",
       "    <tr>\n",
       "      <th>wavg_passion</th>\n",
       "      <td>0.028170</td>\n",
       "    </tr>\n",
       "    <tr>\n",
       "      <th>num_playlist</th>\n",
       "      <td>0.097983</td>\n",
       "    </tr>\n",
       "  </tbody>\n",
       "</table>\n",
       "</div>"
      ],
      "text/plain": [
       "                      Feature Importance\n",
       "artist_passion_score            0.026252\n",
       "1960s                           0.044496\n",
       "1970s                           0.049806\n",
       "1980s                           0.036689\n",
       "1990s                           0.100814\n",
       "2000s                           0.061193\n",
       "female                          0.039552\n",
       "region_pc1                      0.084468\n",
       "region_pc2                      0.120773\n",
       "region_pc3                      0.036350\n",
       "region_pc4                      0.036991\n",
       "region_pc5                      0.029733\n",
       "region_pc6                      0.053083\n",
       "region_pc7                      0.053752\n",
       "region_pc8                      0.035974\n",
       "region_pc9                      0.032849\n",
       "region_pc10                     0.031073\n",
       "wavg_passion                    0.028170\n",
       "num_playlist                    0.097983"
      ]
     },
     "execution_count": 428,
     "metadata": {},
     "output_type": "execute_result"
    }
   ],
   "source": [
    "pd.DataFrame(fea_impor,index=df_final.columns[1:],columns=['Feature Importance'])"
   ]
  },
  {
   "cell_type": "markdown",
   "metadata": {},
   "source": [
    "As we can see from the above table, age bins varaibles and region code PCA variables are very important in predicting the success of an artist. On the other hand, artist passion score and playlist passion score as well as gender is helping very little in the prediction."
   ]
  },
  {
   "cell_type": "markdown",
   "metadata": {},
   "source": [
    "## Summary \n",
    "\n",
    "Please provide summaries the work completed and the outcomes of the analysis "
   ]
  },
  {
   "cell_type": "markdown",
   "metadata": {},
   "source": [
    "- First of all, this is an unbalanced dataset so we need to use resampling techniques to balance the class. However, over-sampling is proved to perform worse than under-sampling in the cross-validation (the reason might be the problem of overfitting to the positive class so that it lack generalizability when it applied to the validation set). This results in a very small training set in the cross validation, especially for the positive class. Therefore, the classifier may not be able features from the positive class very well, which limits their performance. \n",
    " \n",
    "- Also noted that we have been using scoring metrics such as F1 score and AUC rather than accuracy. This is because in this project, it is more important to correctly predict successful artist rather than correctly predict unsuccessful artist. However, the final model has a relatively good recall but a bad precision and it is worth noting that there is always a trade-off between recall and precision. Therefore, for this final model, when a potentially successful artist comes in, it is good at predicting this artist to be successful but within those artists that this model predicts to be successful, only 46% will be trully successful in the future. \n",
    "\n",
    "- The artist and playlist passion scores are not good at predicting the success of an artist, which suggests one can improve the performance of the model by constructing better artist and playlist features. "
   ]
  }
 ],
 "metadata": {
  "kernelspec": {
   "display_name": "Python 3",
   "language": "python",
   "name": "python3"
  },
  "language_info": {
   "codemirror_mode": {
    "name": "ipython",
    "version": 3
   },
   "file_extension": ".py",
   "mimetype": "text/x-python",
   "name": "python",
   "nbconvert_exporter": "python",
   "pygments_lexer": "ipython3",
   "version": "3.6.7"
  }
 },
 "nbformat": 4,
 "nbformat_minor": 2
}
